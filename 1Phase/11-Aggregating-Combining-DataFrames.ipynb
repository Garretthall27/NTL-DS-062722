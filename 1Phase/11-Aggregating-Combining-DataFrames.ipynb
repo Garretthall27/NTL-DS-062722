{
 "cells": [
  {
   "cell_type": "markdown",
   "metadata": {
    "toc": true
   },
   "source": [
    "<h1>Table of Contents<span class=\"tocSkip\"></span></h1>\n",
    "<div class=\"toc\"><ul class=\"toc-item\"><li><span><a href=\"#Aggregating-and-Combining-pandas-DataFrames\" data-toc-modified-id=\"Aggregating-and-Combining-pandas-DataFrames-1\"><span class=\"toc-item-num\">1&nbsp;&nbsp;</span>Aggregating and Combining <code>pandas</code> DataFrames</a></span><ul class=\"toc-item\"><li><span><a href=\"#Objectives\" data-toc-modified-id=\"Objectives-1.1\"><span class=\"toc-item-num\">1.1&nbsp;&nbsp;</span>Objectives</a></span></li><li><span><a href=\"#Set-Up\" data-toc-modified-id=\"Set-Up-1.2\"><span class=\"toc-item-num\">1.2&nbsp;&nbsp;</span>Set Up</a></span></li><li><span><a href=\"#Aggregating-over-DataFrames:-.groupby()\" data-toc-modified-id=\"Aggregating-over-DataFrames:-.groupby()-1.3\"><span class=\"toc-item-num\">1.3&nbsp;&nbsp;</span>Aggregating over DataFrames: <code>.groupby()</code></a></span></li><li><span><a href=\"#Aggregating\" data-toc-modified-id=\"Aggregating-1.4\"><span class=\"toc-item-num\">1.4&nbsp;&nbsp;</span>Aggregating</a></span></li><li><span><a href=\"#Exercise\" data-toc-modified-id=\"Exercise-1.5\"><span class=\"toc-item-num\">1.5&nbsp;&nbsp;</span>Exercise</a></span></li></ul></li><li><span><a href=\"#Pivoting-a-DataFrame\" data-toc-modified-id=\"Pivoting-a-DataFrame-2\"><span class=\"toc-item-num\">2&nbsp;&nbsp;</span>Pivoting a DataFrame</a></span><ul class=\"toc-item\"><li><span><a href=\"#.pivot_table()\" data-toc-modified-id=\".pivot_table()-2.1\"><span class=\"toc-item-num\">2.1&nbsp;&nbsp;</span><code>.pivot_table()</code></a></span></li><li><span><a href=\"#Exercise\" data-toc-modified-id=\"Exercise-2.2\"><span class=\"toc-item-num\">2.2&nbsp;&nbsp;</span>Exercise</a></span></li></ul></li><li><span><a href=\"#Methods-for-Combining-DataFrames:-.join(),-.merge(),-.concat()\" data-toc-modified-id=\"Methods-for-Combining-DataFrames:-.join(),-.merge(),-.concat()-3\"><span class=\"toc-item-num\">3&nbsp;&nbsp;</span>Methods for Combining DataFrames: <code>.join()</code>, <code>.merge()</code>, <code>.concat()</code></a></span><ul class=\"toc-item\"><li><span><a href=\"#.join()\" data-toc-modified-id=\".join()-3.1\"><span class=\"toc-item-num\">3.1&nbsp;&nbsp;</span><code>.join()</code></a></span></li><li><span><a href=\"#.merge()\" data-toc-modified-id=\".merge()-3.2\"><span class=\"toc-item-num\">3.2&nbsp;&nbsp;</span><code>.merge()</code></a></span></li><li><span><a href=\"#The-how-Parameter\" data-toc-modified-id=\"The-how-Parameter-3.3\"><span class=\"toc-item-num\">3.3&nbsp;&nbsp;</span>The <code>how</code> Parameter</a></span></li><li><span><a href=\"#pd.concat()\" data-toc-modified-id=\"pd.concat()-3.4\"><span class=\"toc-item-num\">3.4&nbsp;&nbsp;</span><code>pd.concat()</code></a></span></li><li><span><a href=\"#Back-to-the-Center\" data-toc-modified-id=\"Back-to-the-Center-3.5\"><span class=\"toc-item-num\">3.5&nbsp;&nbsp;</span>Back to the Center</a></span></li></ul></li><li><span><a href=\"#Level-Up:-Quick-Column-Name-Clean-Up-Code\" data-toc-modified-id=\"Level-Up:-Quick-Column-Name-Clean-Up-Code-4\"><span class=\"toc-item-num\">4&nbsp;&nbsp;</span>Level Up: Quick Column Name Clean Up Code</a></span></li><li><span><a href=\"#Level-Up:-pandas.set_option()\" data-toc-modified-id=\"Level-Up:-pandas.set_option()-5\"><span class=\"toc-item-num\">5&nbsp;&nbsp;</span>Level Up: <code>pandas.set_option()</code></a></span><ul class=\"toc-item\"><li><span><a href=\"#Block-Scientific-Notation\" data-toc-modified-id=\"Block-Scientific-Notation-5.1\"><span class=\"toc-item-num\">5.1&nbsp;&nbsp;</span>Block Scientific Notation</a></span></li><li><span><a href=\"#See-More-Rows\" data-toc-modified-id=\"See-More-Rows-5.2\"><span class=\"toc-item-num\">5.2&nbsp;&nbsp;</span>See More Rows</a></span></li></ul></li></ul></div>"
   ]
  },
  {
   "cell_type": "markdown",
   "metadata": {
    "heading_collapsed": true
   },
   "source": [
    "# Aggregating and Combining `pandas` DataFrames"
   ]
  },
  {
   "cell_type": "markdown",
   "metadata": {
    "heading_collapsed": true,
    "hidden": true
   },
   "source": [
    "## Objectives"
   ]
  },
  {
   "cell_type": "markdown",
   "metadata": {
    "hidden": true
   },
   "source": [
    "- Use GroupBy objects to organize and aggregate data\n",
    "- Create pivot tables from DataFrames\n",
    "- Combine DataFrames by merging and appending "
   ]
  },
  {
   "cell_type": "markdown",
   "metadata": {
    "heading_collapsed": true,
    "hidden": true
   },
   "source": [
    "## Set Up"
   ]
  },
  {
   "cell_type": "markdown",
   "metadata": {
    "hidden": true
   },
   "source": [
    "Surprise, surprise... we're still working with the Austin Animal Center Data! Let's start with Outcomes"
   ]
  },
  {
   "cell_type": "code",
   "execution_count": 1,
   "metadata": {
    "hidden": true
   },
   "outputs": [],
   "source": [
    "# Imports\n",
    "import pandas as pd\n",
    "import numpy as np\n",
    "\n",
    "import matplotlib.pyplot as plt"
   ]
  },
  {
   "cell_type": "code",
   "execution_count": 2,
   "metadata": {
    "hidden": true
   },
   "outputs": [],
   "source": [
    "# Read in the Outcomes data\n",
    "# Let's be sure to parse dates for the DateTime and Date of Birth columns\n",
    "outcomes = pd.read_csv('./data/Austin_Animal_Center_Outcomes_022822.csv',\n",
    "                      parse_dates = ['DateTime','Date of Birth'])"
   ]
  },
  {
   "cell_type": "code",
   "execution_count": 3,
   "metadata": {
    "hidden": true
   },
   "outputs": [
    {
     "data": {
      "text/html": [
       "<div>\n",
       "<style scoped>\n",
       "    .dataframe tbody tr th:only-of-type {\n",
       "        vertical-align: middle;\n",
       "    }\n",
       "\n",
       "    .dataframe tbody tr th {\n",
       "        vertical-align: top;\n",
       "    }\n",
       "\n",
       "    .dataframe thead th {\n",
       "        text-align: right;\n",
       "    }\n",
       "</style>\n",
       "<table border=\"1\" class=\"dataframe\">\n",
       "  <thead>\n",
       "    <tr style=\"text-align: right;\">\n",
       "      <th></th>\n",
       "      <th>Animal ID</th>\n",
       "      <th>Name</th>\n",
       "      <th>DateTime</th>\n",
       "      <th>MonthYear</th>\n",
       "      <th>Date of Birth</th>\n",
       "      <th>Outcome Type</th>\n",
       "      <th>Outcome Subtype</th>\n",
       "      <th>Animal Type</th>\n",
       "      <th>Sex upon Outcome</th>\n",
       "      <th>Age upon Outcome</th>\n",
       "      <th>Breed</th>\n",
       "      <th>Color</th>\n",
       "    </tr>\n",
       "  </thead>\n",
       "  <tbody>\n",
       "    <tr>\n",
       "      <th>0</th>\n",
       "      <td>A794011</td>\n",
       "      <td>Chunk</td>\n",
       "      <td>2019-05-08 18:20:00</td>\n",
       "      <td>May 2019</td>\n",
       "      <td>2017-05-02</td>\n",
       "      <td>Rto-Adopt</td>\n",
       "      <td>NaN</td>\n",
       "      <td>Cat</td>\n",
       "      <td>Neutered Male</td>\n",
       "      <td>2 years</td>\n",
       "      <td>Domestic Shorthair Mix</td>\n",
       "      <td>Brown Tabby/White</td>\n",
       "    </tr>\n",
       "    <tr>\n",
       "      <th>1</th>\n",
       "      <td>A776359</td>\n",
       "      <td>Gizmo</td>\n",
       "      <td>2018-07-18 16:02:00</td>\n",
       "      <td>Jul 2018</td>\n",
       "      <td>2017-07-12</td>\n",
       "      <td>Adoption</td>\n",
       "      <td>NaN</td>\n",
       "      <td>Dog</td>\n",
       "      <td>Neutered Male</td>\n",
       "      <td>1 year</td>\n",
       "      <td>Chihuahua Shorthair Mix</td>\n",
       "      <td>White/Brown</td>\n",
       "    </tr>\n",
       "    <tr>\n",
       "      <th>2</th>\n",
       "      <td>A821648</td>\n",
       "      <td>NaN</td>\n",
       "      <td>2020-08-16 11:38:00</td>\n",
       "      <td>Aug 2020</td>\n",
       "      <td>2019-08-16</td>\n",
       "      <td>Euthanasia</td>\n",
       "      <td>NaN</td>\n",
       "      <td>Other</td>\n",
       "      <td>Unknown</td>\n",
       "      <td>1 year</td>\n",
       "      <td>Raccoon</td>\n",
       "      <td>Gray</td>\n",
       "    </tr>\n",
       "    <tr>\n",
       "      <th>3</th>\n",
       "      <td>A720371</td>\n",
       "      <td>Moose</td>\n",
       "      <td>2016-02-13 17:59:00</td>\n",
       "      <td>Feb 2016</td>\n",
       "      <td>2015-10-08</td>\n",
       "      <td>Adoption</td>\n",
       "      <td>NaN</td>\n",
       "      <td>Dog</td>\n",
       "      <td>Neutered Male</td>\n",
       "      <td>4 months</td>\n",
       "      <td>Anatol Shepherd/Labrador Retriever</td>\n",
       "      <td>Buff</td>\n",
       "    </tr>\n",
       "    <tr>\n",
       "      <th>4</th>\n",
       "      <td>A674754</td>\n",
       "      <td>NaN</td>\n",
       "      <td>2014-03-18 11:47:00</td>\n",
       "      <td>Mar 2014</td>\n",
       "      <td>2014-03-12</td>\n",
       "      <td>Transfer</td>\n",
       "      <td>Partner</td>\n",
       "      <td>Cat</td>\n",
       "      <td>Intact Male</td>\n",
       "      <td>6 days</td>\n",
       "      <td>Domestic Shorthair Mix</td>\n",
       "      <td>Orange Tabby</td>\n",
       "    </tr>\n",
       "  </tbody>\n",
       "</table>\n",
       "</div>"
      ],
      "text/plain": [
       "  Animal ID   Name            DateTime MonthYear Date of Birth Outcome Type  \\\n",
       "0   A794011  Chunk 2019-05-08 18:20:00  May 2019    2017-05-02    Rto-Adopt   \n",
       "1   A776359  Gizmo 2018-07-18 16:02:00  Jul 2018    2017-07-12     Adoption   \n",
       "2   A821648    NaN 2020-08-16 11:38:00  Aug 2020    2019-08-16   Euthanasia   \n",
       "3   A720371  Moose 2016-02-13 17:59:00  Feb 2016    2015-10-08     Adoption   \n",
       "4   A674754    NaN 2014-03-18 11:47:00  Mar 2014    2014-03-12     Transfer   \n",
       "\n",
       "  Outcome Subtype Animal Type Sex upon Outcome Age upon Outcome  \\\n",
       "0             NaN         Cat    Neutered Male          2 years   \n",
       "1             NaN         Dog    Neutered Male           1 year   \n",
       "2             NaN       Other          Unknown           1 year   \n",
       "3             NaN         Dog    Neutered Male         4 months   \n",
       "4         Partner         Cat      Intact Male           6 days   \n",
       "\n",
       "                                Breed              Color  \n",
       "0              Domestic Shorthair Mix  Brown Tabby/White  \n",
       "1             Chihuahua Shorthair Mix        White/Brown  \n",
       "2                             Raccoon               Gray  \n",
       "3  Anatol Shepherd/Labrador Retriever               Buff  \n",
       "4              Domestic Shorthair Mix       Orange Tabby  "
      ]
     },
     "execution_count": 3,
     "metadata": {},
     "output_type": "execute_result"
    }
   ],
   "source": [
    "# Check it\n",
    "outcomes.head()"
   ]
  },
  {
   "cell_type": "code",
   "execution_count": 4,
   "metadata": {},
   "outputs": [
    {
     "name": "stdout",
     "output_type": "stream",
     "text": [
      "<class 'pandas.core.frame.DataFrame'>\n",
      "RangeIndex: 137097 entries, 0 to 137096\n",
      "Data columns (total 12 columns):\n",
      " #   Column            Non-Null Count   Dtype         \n",
      "---  ------            --------------   -----         \n",
      " 0   Animal ID         137097 non-null  object        \n",
      " 1   Name              96095 non-null   object        \n",
      " 2   DateTime          137097 non-null  datetime64[ns]\n",
      " 3   MonthYear         137097 non-null  object        \n",
      " 4   Date of Birth     137097 non-null  datetime64[ns]\n",
      " 5   Outcome Type      137073 non-null  object        \n",
      " 6   Outcome Subtype   62653 non-null   object        \n",
      " 7   Animal Type       137097 non-null  object        \n",
      " 8   Sex upon Outcome  137095 non-null  object        \n",
      " 9   Age upon Outcome  137092 non-null  object        \n",
      " 10  Breed             137097 non-null  object        \n",
      " 11  Color             137097 non-null  object        \n",
      "dtypes: datetime64[ns](2), object(10)\n",
      "memory usage: 12.6+ MB\n"
     ]
    }
   ],
   "source": [
    "outcomes.info()"
   ]
  },
  {
   "cell_type": "code",
   "execution_count": 5,
   "metadata": {
    "hidden": true
   },
   "outputs": [],
   "source": [
    "# Let's create our Age in Days column\n",
    "outcomes['Age in Days'] = outcomes['DateTime'].dt.normalize() - outcomes['Date of Birth']"
   ]
  },
  {
   "cell_type": "code",
   "execution_count": 6,
   "metadata": {},
   "outputs": [
    {
     "data": {
      "text/html": [
       "<div>\n",
       "<style scoped>\n",
       "    .dataframe tbody tr th:only-of-type {\n",
       "        vertical-align: middle;\n",
       "    }\n",
       "\n",
       "    .dataframe tbody tr th {\n",
       "        vertical-align: top;\n",
       "    }\n",
       "\n",
       "    .dataframe thead th {\n",
       "        text-align: right;\n",
       "    }\n",
       "</style>\n",
       "<table border=\"1\" class=\"dataframe\">\n",
       "  <thead>\n",
       "    <tr style=\"text-align: right;\">\n",
       "      <th></th>\n",
       "      <th>Animal ID</th>\n",
       "      <th>Name</th>\n",
       "      <th>DateTime</th>\n",
       "      <th>MonthYear</th>\n",
       "      <th>Date of Birth</th>\n",
       "      <th>Outcome Type</th>\n",
       "      <th>Outcome Subtype</th>\n",
       "      <th>Animal Type</th>\n",
       "      <th>Sex upon Outcome</th>\n",
       "      <th>Age upon Outcome</th>\n",
       "      <th>Breed</th>\n",
       "      <th>Color</th>\n",
       "      <th>Age in Days</th>\n",
       "    </tr>\n",
       "  </thead>\n",
       "  <tbody>\n",
       "    <tr>\n",
       "      <th>0</th>\n",
       "      <td>A794011</td>\n",
       "      <td>Chunk</td>\n",
       "      <td>2019-05-08 18:20:00</td>\n",
       "      <td>May 2019</td>\n",
       "      <td>2017-05-02</td>\n",
       "      <td>Rto-Adopt</td>\n",
       "      <td>NaN</td>\n",
       "      <td>Cat</td>\n",
       "      <td>Neutered Male</td>\n",
       "      <td>2 years</td>\n",
       "      <td>Domestic Shorthair Mix</td>\n",
       "      <td>Brown Tabby/White</td>\n",
       "      <td>736 days</td>\n",
       "    </tr>\n",
       "    <tr>\n",
       "      <th>1</th>\n",
       "      <td>A776359</td>\n",
       "      <td>Gizmo</td>\n",
       "      <td>2018-07-18 16:02:00</td>\n",
       "      <td>Jul 2018</td>\n",
       "      <td>2017-07-12</td>\n",
       "      <td>Adoption</td>\n",
       "      <td>NaN</td>\n",
       "      <td>Dog</td>\n",
       "      <td>Neutered Male</td>\n",
       "      <td>1 year</td>\n",
       "      <td>Chihuahua Shorthair Mix</td>\n",
       "      <td>White/Brown</td>\n",
       "      <td>371 days</td>\n",
       "    </tr>\n",
       "    <tr>\n",
       "      <th>2</th>\n",
       "      <td>A821648</td>\n",
       "      <td>NaN</td>\n",
       "      <td>2020-08-16 11:38:00</td>\n",
       "      <td>Aug 2020</td>\n",
       "      <td>2019-08-16</td>\n",
       "      <td>Euthanasia</td>\n",
       "      <td>NaN</td>\n",
       "      <td>Other</td>\n",
       "      <td>Unknown</td>\n",
       "      <td>1 year</td>\n",
       "      <td>Raccoon</td>\n",
       "      <td>Gray</td>\n",
       "      <td>366 days</td>\n",
       "    </tr>\n",
       "    <tr>\n",
       "      <th>3</th>\n",
       "      <td>A720371</td>\n",
       "      <td>Moose</td>\n",
       "      <td>2016-02-13 17:59:00</td>\n",
       "      <td>Feb 2016</td>\n",
       "      <td>2015-10-08</td>\n",
       "      <td>Adoption</td>\n",
       "      <td>NaN</td>\n",
       "      <td>Dog</td>\n",
       "      <td>Neutered Male</td>\n",
       "      <td>4 months</td>\n",
       "      <td>Anatol Shepherd/Labrador Retriever</td>\n",
       "      <td>Buff</td>\n",
       "      <td>128 days</td>\n",
       "    </tr>\n",
       "    <tr>\n",
       "      <th>4</th>\n",
       "      <td>A674754</td>\n",
       "      <td>NaN</td>\n",
       "      <td>2014-03-18 11:47:00</td>\n",
       "      <td>Mar 2014</td>\n",
       "      <td>2014-03-12</td>\n",
       "      <td>Transfer</td>\n",
       "      <td>Partner</td>\n",
       "      <td>Cat</td>\n",
       "      <td>Intact Male</td>\n",
       "      <td>6 days</td>\n",
       "      <td>Domestic Shorthair Mix</td>\n",
       "      <td>Orange Tabby</td>\n",
       "      <td>6 days</td>\n",
       "    </tr>\n",
       "  </tbody>\n",
       "</table>\n",
       "</div>"
      ],
      "text/plain": [
       "  Animal ID   Name            DateTime MonthYear Date of Birth Outcome Type  \\\n",
       "0   A794011  Chunk 2019-05-08 18:20:00  May 2019    2017-05-02    Rto-Adopt   \n",
       "1   A776359  Gizmo 2018-07-18 16:02:00  Jul 2018    2017-07-12     Adoption   \n",
       "2   A821648    NaN 2020-08-16 11:38:00  Aug 2020    2019-08-16   Euthanasia   \n",
       "3   A720371  Moose 2016-02-13 17:59:00  Feb 2016    2015-10-08     Adoption   \n",
       "4   A674754    NaN 2014-03-18 11:47:00  Mar 2014    2014-03-12     Transfer   \n",
       "\n",
       "  Outcome Subtype Animal Type Sex upon Outcome Age upon Outcome  \\\n",
       "0             NaN         Cat    Neutered Male          2 years   \n",
       "1             NaN         Dog    Neutered Male           1 year   \n",
       "2             NaN       Other          Unknown           1 year   \n",
       "3             NaN         Dog    Neutered Male         4 months   \n",
       "4         Partner         Cat      Intact Male           6 days   \n",
       "\n",
       "                                Breed              Color Age in Days  \n",
       "0              Domestic Shorthair Mix  Brown Tabby/White    736 days  \n",
       "1             Chihuahua Shorthair Mix        White/Brown    371 days  \n",
       "2                             Raccoon               Gray    366 days  \n",
       "3  Anatol Shepherd/Labrador Retriever               Buff    128 days  \n",
       "4              Domestic Shorthair Mix       Orange Tabby      6 days  "
      ]
     },
     "execution_count": 6,
     "metadata": {},
     "output_type": "execute_result"
    }
   ],
   "source": [
    "outcomes.head()"
   ]
  },
  {
   "cell_type": "code",
   "execution_count": 7,
   "metadata": {
    "hidden": true
   },
   "outputs": [],
   "source": [
    "# Grab just the integer here...\n",
    "outcomes['Age in Days'] = outcomes['Age in Days'].dt.days"
   ]
  },
  {
   "cell_type": "code",
   "execution_count": 8,
   "metadata": {
    "hidden": true
   },
   "outputs": [
    {
     "data": {
      "text/html": [
       "<div>\n",
       "<style scoped>\n",
       "    .dataframe tbody tr th:only-of-type {\n",
       "        vertical-align: middle;\n",
       "    }\n",
       "\n",
       "    .dataframe tbody tr th {\n",
       "        vertical-align: top;\n",
       "    }\n",
       "\n",
       "    .dataframe thead th {\n",
       "        text-align: right;\n",
       "    }\n",
       "</style>\n",
       "<table border=\"1\" class=\"dataframe\">\n",
       "  <thead>\n",
       "    <tr style=\"text-align: right;\">\n",
       "      <th></th>\n",
       "      <th>Animal ID</th>\n",
       "      <th>Name</th>\n",
       "      <th>DateTime</th>\n",
       "      <th>MonthYear</th>\n",
       "      <th>Date of Birth</th>\n",
       "      <th>Outcome Type</th>\n",
       "      <th>Outcome Subtype</th>\n",
       "      <th>Animal Type</th>\n",
       "      <th>Sex upon Outcome</th>\n",
       "      <th>Age upon Outcome</th>\n",
       "      <th>Breed</th>\n",
       "      <th>Color</th>\n",
       "      <th>Age in Days</th>\n",
       "    </tr>\n",
       "  </thead>\n",
       "  <tbody>\n",
       "    <tr>\n",
       "      <th>0</th>\n",
       "      <td>A794011</td>\n",
       "      <td>Chunk</td>\n",
       "      <td>2019-05-08 18:20:00</td>\n",
       "      <td>May 2019</td>\n",
       "      <td>2017-05-02</td>\n",
       "      <td>Rto-Adopt</td>\n",
       "      <td>NaN</td>\n",
       "      <td>Cat</td>\n",
       "      <td>Neutered Male</td>\n",
       "      <td>2 years</td>\n",
       "      <td>Domestic Shorthair Mix</td>\n",
       "      <td>Brown Tabby/White</td>\n",
       "      <td>736</td>\n",
       "    </tr>\n",
       "    <tr>\n",
       "      <th>1</th>\n",
       "      <td>A776359</td>\n",
       "      <td>Gizmo</td>\n",
       "      <td>2018-07-18 16:02:00</td>\n",
       "      <td>Jul 2018</td>\n",
       "      <td>2017-07-12</td>\n",
       "      <td>Adoption</td>\n",
       "      <td>NaN</td>\n",
       "      <td>Dog</td>\n",
       "      <td>Neutered Male</td>\n",
       "      <td>1 year</td>\n",
       "      <td>Chihuahua Shorthair Mix</td>\n",
       "      <td>White/Brown</td>\n",
       "      <td>371</td>\n",
       "    </tr>\n",
       "    <tr>\n",
       "      <th>2</th>\n",
       "      <td>A821648</td>\n",
       "      <td>NaN</td>\n",
       "      <td>2020-08-16 11:38:00</td>\n",
       "      <td>Aug 2020</td>\n",
       "      <td>2019-08-16</td>\n",
       "      <td>Euthanasia</td>\n",
       "      <td>NaN</td>\n",
       "      <td>Other</td>\n",
       "      <td>Unknown</td>\n",
       "      <td>1 year</td>\n",
       "      <td>Raccoon</td>\n",
       "      <td>Gray</td>\n",
       "      <td>366</td>\n",
       "    </tr>\n",
       "    <tr>\n",
       "      <th>3</th>\n",
       "      <td>A720371</td>\n",
       "      <td>Moose</td>\n",
       "      <td>2016-02-13 17:59:00</td>\n",
       "      <td>Feb 2016</td>\n",
       "      <td>2015-10-08</td>\n",
       "      <td>Adoption</td>\n",
       "      <td>NaN</td>\n",
       "      <td>Dog</td>\n",
       "      <td>Neutered Male</td>\n",
       "      <td>4 months</td>\n",
       "      <td>Anatol Shepherd/Labrador Retriever</td>\n",
       "      <td>Buff</td>\n",
       "      <td>128</td>\n",
       "    </tr>\n",
       "    <tr>\n",
       "      <th>4</th>\n",
       "      <td>A674754</td>\n",
       "      <td>NaN</td>\n",
       "      <td>2014-03-18 11:47:00</td>\n",
       "      <td>Mar 2014</td>\n",
       "      <td>2014-03-12</td>\n",
       "      <td>Transfer</td>\n",
       "      <td>Partner</td>\n",
       "      <td>Cat</td>\n",
       "      <td>Intact Male</td>\n",
       "      <td>6 days</td>\n",
       "      <td>Domestic Shorthair Mix</td>\n",
       "      <td>Orange Tabby</td>\n",
       "      <td>6</td>\n",
       "    </tr>\n",
       "  </tbody>\n",
       "</table>\n",
       "</div>"
      ],
      "text/plain": [
       "  Animal ID   Name            DateTime MonthYear Date of Birth Outcome Type  \\\n",
       "0   A794011  Chunk 2019-05-08 18:20:00  May 2019    2017-05-02    Rto-Adopt   \n",
       "1   A776359  Gizmo 2018-07-18 16:02:00  Jul 2018    2017-07-12     Adoption   \n",
       "2   A821648    NaN 2020-08-16 11:38:00  Aug 2020    2019-08-16   Euthanasia   \n",
       "3   A720371  Moose 2016-02-13 17:59:00  Feb 2016    2015-10-08     Adoption   \n",
       "4   A674754    NaN 2014-03-18 11:47:00  Mar 2014    2014-03-12     Transfer   \n",
       "\n",
       "  Outcome Subtype Animal Type Sex upon Outcome Age upon Outcome  \\\n",
       "0             NaN         Cat    Neutered Male          2 years   \n",
       "1             NaN         Dog    Neutered Male           1 year   \n",
       "2             NaN       Other          Unknown           1 year   \n",
       "3             NaN         Dog    Neutered Male         4 months   \n",
       "4         Partner         Cat      Intact Male           6 days   \n",
       "\n",
       "                                Breed              Color  Age in Days  \n",
       "0              Domestic Shorthair Mix  Brown Tabby/White          736  \n",
       "1             Chihuahua Shorthair Mix        White/Brown          371  \n",
       "2                             Raccoon               Gray          366  \n",
       "3  Anatol Shepherd/Labrador Retriever               Buff          128  \n",
       "4              Domestic Shorthair Mix       Orange Tabby            6  "
      ]
     },
     "execution_count": 8,
     "metadata": {},
     "output_type": "execute_result"
    }
   ],
   "source": [
    "# Sanity check\n",
    "outcomes.head()"
   ]
  },
  {
   "cell_type": "code",
   "execution_count": 9,
   "metadata": {},
   "outputs": [
    {
     "name": "stdout",
     "output_type": "stream",
     "text": [
      "<class 'pandas.core.frame.DataFrame'>\n",
      "RangeIndex: 137097 entries, 0 to 137096\n",
      "Data columns (total 13 columns):\n",
      " #   Column            Non-Null Count   Dtype         \n",
      "---  ------            --------------   -----         \n",
      " 0   Animal ID         137097 non-null  object        \n",
      " 1   Name              96095 non-null   object        \n",
      " 2   DateTime          137097 non-null  datetime64[ns]\n",
      " 3   MonthYear         137097 non-null  object        \n",
      " 4   Date of Birth     137097 non-null  datetime64[ns]\n",
      " 5   Outcome Type      137073 non-null  object        \n",
      " 6   Outcome Subtype   62653 non-null   object        \n",
      " 7   Animal Type       137097 non-null  object        \n",
      " 8   Sex upon Outcome  137095 non-null  object        \n",
      " 9   Age upon Outcome  137092 non-null  object        \n",
      " 10  Breed             137097 non-null  object        \n",
      " 11  Color             137097 non-null  object        \n",
      " 12  Age in Days       137097 non-null  int64         \n",
      "dtypes: datetime64[ns](2), int64(1), object(10)\n",
      "memory usage: 13.6+ MB\n"
     ]
    }
   ],
   "source": [
    "outcomes.info()"
   ]
  },
  {
   "cell_type": "markdown",
   "metadata": {
    "heading_collapsed": true,
    "hidden": true
   },
   "source": [
    "## Aggregating over DataFrames: `.groupby()`"
   ]
  },
  {
   "cell_type": "markdown",
   "metadata": {
    "hidden": true
   },
   "source": [
    "Those of you familiar with SQL have probably used the GROUP BY command. (And if you haven't, you'll see it very soon!) Pandas has this, too.\n",
    "\n",
    "The `.groupby()` method is especially useful for aggregate functions applied to the data grouped in particular ways."
   ]
  },
  {
   "cell_type": "code",
   "execution_count": 10,
   "metadata": {
    "hidden": true
   },
   "outputs": [
    {
     "data": {
      "text/plain": [
       "<pandas.core.groupby.generic.DataFrameGroupBy object at 0x000001C4D26F70D0>"
      ]
     },
     "execution_count": 10,
     "metadata": {},
     "output_type": "execute_result"
    }
   ],
   "source": [
    "# Just using groupby outputs some weird GroupBy object... not helpful\n",
    "outcomes.groupby(by='Animal Type')"
   ]
  },
  {
   "cell_type": "markdown",
   "metadata": {
    "hidden": true
   },
   "source": [
    "Once we know we are working with a type of object, it opens up a suite of attributes and methods. One attribute we can look at is groups."
   ]
  },
  {
   "cell_type": "code",
   "execution_count": 11,
   "metadata": {
    "hidden": true
   },
   "outputs": [
    {
     "data": {
      "text/plain": [
       "dict_keys(['Bird', 'Cat', 'Dog', 'Livestock', 'Other'])"
      ]
     },
     "execution_count": 11,
     "metadata": {},
     "output_type": "execute_result"
    }
   ],
   "source": [
    "# This returns each group indexed by the group name, e.g. 'Bird',\n",
    "# along with the row indices of each value\n",
    "\n",
    "outcomes.groupby('Animal Type').groups.keys()"
   ]
  },
  {
   "cell_type": "code",
   "execution_count": 12,
   "metadata": {
    "hidden": true
   },
   "outputs": [],
   "source": [
    "# Same goes for multi-index groupbys\n",
    "animal_outcome = outcomes.groupby(['Animal Type', 'Outcome Type'])"
   ]
  },
  {
   "cell_type": "code",
   "execution_count": 13,
   "metadata": {
    "hidden": true
   },
   "outputs": [
    {
     "data": {
      "text/plain": [
       "dict_keys([('Cat', 'Rto-Adopt'), ('Dog', 'Adoption'), ('Other', 'Euthanasia'), ('Cat', 'Transfer'), ('Cat', 'Adoption'), ('Cat', 'Return to Owner'), ('Dog', 'Return to Owner'), ('Dog', 'Transfer'), ('Cat', 'Euthanasia'), ('Other', 'Adoption'), ('Dog', 'Rto-Adopt'), ('Cat', 'Died'), ('Dog', 'Euthanasia'), ('Other', 'Transfer'), ('Bird', 'Adoption'), ('Other', 'Disposal'), ('Other', 'Died'), ('Dog', 'Died'), ('Cat', 'Disposal'), ('Other', 'Return to Owner'), ('Bird', 'Euthanasia'), ('Bird', 'Transfer'), ('Livestock', 'Return to Owner'), ('Dog', 'Missing'), ('Other', 'Relocate'), ('Dog', nan), ('Livestock', 'Adoption'), ('Bird', 'Return to Owner'), ('Dog', 'Disposal'), ('Cat', 'Missing'), ('Bird', 'Disposal'), ('Bird', 'Died'), ('Other', 'Missing'), ('Other', 'Rto-Adopt'), ('Bird', 'Relocate'), ('Bird', 'Missing'), ('Other', nan), ('Livestock', 'Transfer'), ('Cat', 'Relocate'), ('Cat', nan), ('Livestock', 'Died'), ('Livestock', 'Euthanasia')])"
      ]
     },
     "execution_count": 13,
     "metadata": {},
     "output_type": "execute_result"
    }
   ],
   "source": [
    "# .groups outputs a dictionary, so we can access the group names using keys()\n",
    "animal_outcome.groups.keys()"
   ]
  },
  {
   "cell_type": "code",
   "execution_count": 14,
   "metadata": {
    "hidden": true
   },
   "outputs": [
    {
     "data": {
      "text/html": [
       "<div>\n",
       "<style scoped>\n",
       "    .dataframe tbody tr th:only-of-type {\n",
       "        vertical-align: middle;\n",
       "    }\n",
       "\n",
       "    .dataframe tbody tr th {\n",
       "        vertical-align: top;\n",
       "    }\n",
       "\n",
       "    .dataframe thead th {\n",
       "        text-align: right;\n",
       "    }\n",
       "</style>\n",
       "<table border=\"1\" class=\"dataframe\">\n",
       "  <thead>\n",
       "    <tr style=\"text-align: right;\">\n",
       "      <th></th>\n",
       "      <th>Animal ID</th>\n",
       "      <th>Name</th>\n",
       "      <th>DateTime</th>\n",
       "      <th>MonthYear</th>\n",
       "      <th>Date of Birth</th>\n",
       "      <th>Outcome Type</th>\n",
       "      <th>Outcome Subtype</th>\n",
       "      <th>Animal Type</th>\n",
       "      <th>Sex upon Outcome</th>\n",
       "      <th>Age upon Outcome</th>\n",
       "      <th>Breed</th>\n",
       "      <th>Color</th>\n",
       "      <th>Age in Days</th>\n",
       "    </tr>\n",
       "  </thead>\n",
       "  <tbody>\n",
       "    <tr>\n",
       "      <th>7</th>\n",
       "      <td>A689724</td>\n",
       "      <td>*Donatello</td>\n",
       "      <td>2014-10-18 18:52:00</td>\n",
       "      <td>Oct 2014</td>\n",
       "      <td>2014-08-01</td>\n",
       "      <td>Adoption</td>\n",
       "      <td>NaN</td>\n",
       "      <td>Cat</td>\n",
       "      <td>Neutered Male</td>\n",
       "      <td>2 months</td>\n",
       "      <td>Domestic Shorthair Mix</td>\n",
       "      <td>Black</td>\n",
       "      <td>78</td>\n",
       "    </tr>\n",
       "    <tr>\n",
       "      <th>8</th>\n",
       "      <td>A680969</td>\n",
       "      <td>*Zeus</td>\n",
       "      <td>2014-08-05 16:59:00</td>\n",
       "      <td>Aug 2014</td>\n",
       "      <td>2014-06-03</td>\n",
       "      <td>Adoption</td>\n",
       "      <td>NaN</td>\n",
       "      <td>Cat</td>\n",
       "      <td>Neutered Male</td>\n",
       "      <td>2 months</td>\n",
       "      <td>Domestic Shorthair Mix</td>\n",
       "      <td>White/Orange Tabby</td>\n",
       "      <td>63</td>\n",
       "    </tr>\n",
       "    <tr>\n",
       "      <th>20</th>\n",
       "      <td>A730621</td>\n",
       "      <td>*Liza</td>\n",
       "      <td>2016-09-10 18:59:00</td>\n",
       "      <td>Sep 2016</td>\n",
       "      <td>2016-05-18</td>\n",
       "      <td>Adoption</td>\n",
       "      <td>NaN</td>\n",
       "      <td>Cat</td>\n",
       "      <td>Spayed Female</td>\n",
       "      <td>3 months</td>\n",
       "      <td>Domestic Shorthair Mix</td>\n",
       "      <td>Calico</td>\n",
       "      <td>115</td>\n",
       "    </tr>\n",
       "    <tr>\n",
       "      <th>26</th>\n",
       "      <td>A801106</td>\n",
       "      <td>NaN</td>\n",
       "      <td>2019-08-16 14:05:00</td>\n",
       "      <td>Aug 2019</td>\n",
       "      <td>2019-05-06</td>\n",
       "      <td>Adoption</td>\n",
       "      <td>NaN</td>\n",
       "      <td>Cat</td>\n",
       "      <td>Neutered Male</td>\n",
       "      <td>3 months</td>\n",
       "      <td>Domestic Shorthair</td>\n",
       "      <td>Orange Tabby</td>\n",
       "      <td>102</td>\n",
       "    </tr>\n",
       "    <tr>\n",
       "      <th>54</th>\n",
       "      <td>A792258</td>\n",
       "      <td>Vesper</td>\n",
       "      <td>2019-04-10 20:53:00</td>\n",
       "      <td>Apr 2019</td>\n",
       "      <td>2016-09-08</td>\n",
       "      <td>Adoption</td>\n",
       "      <td>NaN</td>\n",
       "      <td>Cat</td>\n",
       "      <td>Spayed Female</td>\n",
       "      <td>2 years</td>\n",
       "      <td>Domestic Shorthair Mix</td>\n",
       "      <td>Tortie</td>\n",
       "      <td>944</td>\n",
       "    </tr>\n",
       "    <tr>\n",
       "      <th>...</th>\n",
       "      <td>...</td>\n",
       "      <td>...</td>\n",
       "      <td>...</td>\n",
       "      <td>...</td>\n",
       "      <td>...</td>\n",
       "      <td>...</td>\n",
       "      <td>...</td>\n",
       "      <td>...</td>\n",
       "      <td>...</td>\n",
       "      <td>...</td>\n",
       "      <td>...</td>\n",
       "      <td>...</td>\n",
       "      <td>...</td>\n",
       "    </tr>\n",
       "    <tr>\n",
       "      <th>137072</th>\n",
       "      <td>A846689</td>\n",
       "      <td>Coco Chanel</td>\n",
       "      <td>2022-02-26 17:23:00</td>\n",
       "      <td>Feb 2022</td>\n",
       "      <td>2021-08-19</td>\n",
       "      <td>Adoption</td>\n",
       "      <td>NaN</td>\n",
       "      <td>Cat</td>\n",
       "      <td>Spayed Female</td>\n",
       "      <td>6 months</td>\n",
       "      <td>Domestic Shorthair</td>\n",
       "      <td>Blue Tabby</td>\n",
       "      <td>191</td>\n",
       "    </tr>\n",
       "    <tr>\n",
       "      <th>137073</th>\n",
       "      <td>A845330</td>\n",
       "      <td>Mitzi</td>\n",
       "      <td>2022-02-26 18:09:00</td>\n",
       "      <td>Feb 2022</td>\n",
       "      <td>2021-01-28</td>\n",
       "      <td>Adoption</td>\n",
       "      <td>NaN</td>\n",
       "      <td>Cat</td>\n",
       "      <td>Spayed Female</td>\n",
       "      <td>1 year</td>\n",
       "      <td>Domestic Shorthair</td>\n",
       "      <td>Torbie/White</td>\n",
       "      <td>394</td>\n",
       "    </tr>\n",
       "    <tr>\n",
       "      <th>137088</th>\n",
       "      <td>A851184</td>\n",
       "      <td>*Papaya</td>\n",
       "      <td>2022-02-28 11:38:00</td>\n",
       "      <td>Feb 2022</td>\n",
       "      <td>2021-02-08</td>\n",
       "      <td>Adoption</td>\n",
       "      <td>NaN</td>\n",
       "      <td>Cat</td>\n",
       "      <td>Spayed Female</td>\n",
       "      <td>1 year</td>\n",
       "      <td>Domestic Shorthair Mix</td>\n",
       "      <td>Orange Tabby/White</td>\n",
       "      <td>385</td>\n",
       "    </tr>\n",
       "    <tr>\n",
       "      <th>137090</th>\n",
       "      <td>A847804</td>\n",
       "      <td>*Mahalia</td>\n",
       "      <td>2022-02-28 11:42:00</td>\n",
       "      <td>Feb 2022</td>\n",
       "      <td>2011-12-08</td>\n",
       "      <td>Adoption</td>\n",
       "      <td>NaN</td>\n",
       "      <td>Cat</td>\n",
       "      <td>Spayed Female</td>\n",
       "      <td>10 years</td>\n",
       "      <td>Domestic Shorthair Mix</td>\n",
       "      <td>Brown Tabby/White</td>\n",
       "      <td>3735</td>\n",
       "    </tr>\n",
       "    <tr>\n",
       "      <th>137092</th>\n",
       "      <td>A850166</td>\n",
       "      <td>Rainey</td>\n",
       "      <td>2022-01-24 18:20:00</td>\n",
       "      <td>Jan 2022</td>\n",
       "      <td>2021-11-19</td>\n",
       "      <td>Adoption</td>\n",
       "      <td>NaN</td>\n",
       "      <td>Cat</td>\n",
       "      <td>Intact Male</td>\n",
       "      <td>2 months</td>\n",
       "      <td>Siamese</td>\n",
       "      <td>Seal Point</td>\n",
       "      <td>66</td>\n",
       "    </tr>\n",
       "  </tbody>\n",
       "</table>\n",
       "<p>24810 rows × 13 columns</p>\n",
       "</div>"
      ],
      "text/plain": [
       "       Animal ID         Name            DateTime MonthYear Date of Birth  \\\n",
       "7        A689724   *Donatello 2014-10-18 18:52:00  Oct 2014    2014-08-01   \n",
       "8        A680969        *Zeus 2014-08-05 16:59:00  Aug 2014    2014-06-03   \n",
       "20       A730621        *Liza 2016-09-10 18:59:00  Sep 2016    2016-05-18   \n",
       "26       A801106          NaN 2019-08-16 14:05:00  Aug 2019    2019-05-06   \n",
       "54       A792258       Vesper 2019-04-10 20:53:00  Apr 2019    2016-09-08   \n",
       "...          ...          ...                 ...       ...           ...   \n",
       "137072   A846689  Coco Chanel 2022-02-26 17:23:00  Feb 2022    2021-08-19   \n",
       "137073   A845330        Mitzi 2022-02-26 18:09:00  Feb 2022    2021-01-28   \n",
       "137088   A851184      *Papaya 2022-02-28 11:38:00  Feb 2022    2021-02-08   \n",
       "137090   A847804     *Mahalia 2022-02-28 11:42:00  Feb 2022    2011-12-08   \n",
       "137092   A850166       Rainey 2022-01-24 18:20:00  Jan 2022    2021-11-19   \n",
       "\n",
       "       Outcome Type Outcome Subtype Animal Type Sex upon Outcome  \\\n",
       "7          Adoption             NaN         Cat    Neutered Male   \n",
       "8          Adoption             NaN         Cat    Neutered Male   \n",
       "20         Adoption             NaN         Cat    Spayed Female   \n",
       "26         Adoption             NaN         Cat    Neutered Male   \n",
       "54         Adoption             NaN         Cat    Spayed Female   \n",
       "...             ...             ...         ...              ...   \n",
       "137072     Adoption             NaN         Cat    Spayed Female   \n",
       "137073     Adoption             NaN         Cat    Spayed Female   \n",
       "137088     Adoption             NaN         Cat    Spayed Female   \n",
       "137090     Adoption             NaN         Cat    Spayed Female   \n",
       "137092     Adoption             NaN         Cat      Intact Male   \n",
       "\n",
       "       Age upon Outcome                   Breed               Color  \\\n",
       "7              2 months  Domestic Shorthair Mix               Black   \n",
       "8              2 months  Domestic Shorthair Mix  White/Orange Tabby   \n",
       "20             3 months  Domestic Shorthair Mix              Calico   \n",
       "26             3 months      Domestic Shorthair        Orange Tabby   \n",
       "54              2 years  Domestic Shorthair Mix              Tortie   \n",
       "...                 ...                     ...                 ...   \n",
       "137072         6 months      Domestic Shorthair          Blue Tabby   \n",
       "137073           1 year      Domestic Shorthair        Torbie/White   \n",
       "137088           1 year  Domestic Shorthair Mix  Orange Tabby/White   \n",
       "137090         10 years  Domestic Shorthair Mix   Brown Tabby/White   \n",
       "137092         2 months                 Siamese          Seal Point   \n",
       "\n",
       "        Age in Days  \n",
       "7                78  \n",
       "8                63  \n",
       "20              115  \n",
       "26              102  \n",
       "54              944  \n",
       "...             ...  \n",
       "137072          191  \n",
       "137073          394  \n",
       "137088          385  \n",
       "137090         3735  \n",
       "137092           66  \n",
       "\n",
       "[24810 rows x 13 columns]"
      ]
     },
     "execution_count": 14,
     "metadata": {},
     "output_type": "execute_result"
    }
   ],
   "source": [
    "# We can then get a specific group, such as cats that were adopted\n",
    "animal_outcome.get_group(('Cat', 'Adoption'))"
   ]
  },
  {
   "cell_type": "markdown",
   "metadata": {
    "heading_collapsed": true,
    "hidden": true
   },
   "source": [
    "## Aggregating"
   ]
  },
  {
   "cell_type": "markdown",
   "metadata": {
    "hidden": true
   },
   "source": [
    "Once again, as we will see in SQL, groupby objects are intended to be used with aggregation. In SQL, we will see that our queries that include GROUP BY require aggregation performed on columns.\n",
    "\n",
    "We can use `.sum()`, `.mean()`, `.count()`, `.max()`, `.min()`, etc. Find a list of common aggregations [here](https://pandas.pydata.org/pandas-docs/stable/user_guide/groupby.html)."
   ]
  },
  {
   "cell_type": "code",
   "execution_count": 15,
   "metadata": {
    "hidden": true,
    "scrolled": true
   },
   "outputs": [
    {
     "data": {
      "text/html": [
       "<div>\n",
       "<style scoped>\n",
       "    .dataframe tbody tr th:only-of-type {\n",
       "        vertical-align: middle;\n",
       "    }\n",
       "\n",
       "    .dataframe tbody tr th {\n",
       "        vertical-align: top;\n",
       "    }\n",
       "\n",
       "    .dataframe thead th {\n",
       "        text-align: right;\n",
       "    }\n",
       "</style>\n",
       "<table border=\"1\" class=\"dataframe\">\n",
       "  <thead>\n",
       "    <tr style=\"text-align: right;\">\n",
       "      <th></th>\n",
       "      <th>Animal ID</th>\n",
       "      <th>Name</th>\n",
       "      <th>DateTime</th>\n",
       "      <th>MonthYear</th>\n",
       "      <th>Date of Birth</th>\n",
       "      <th>Outcome Type</th>\n",
       "      <th>Outcome Subtype</th>\n",
       "      <th>Sex upon Outcome</th>\n",
       "      <th>Age upon Outcome</th>\n",
       "      <th>Breed</th>\n",
       "      <th>Color</th>\n",
       "      <th>Age in Days</th>\n",
       "    </tr>\n",
       "    <tr>\n",
       "      <th>Animal Type</th>\n",
       "      <th></th>\n",
       "      <th></th>\n",
       "      <th></th>\n",
       "      <th></th>\n",
       "      <th></th>\n",
       "      <th></th>\n",
       "      <th></th>\n",
       "      <th></th>\n",
       "      <th></th>\n",
       "      <th></th>\n",
       "      <th></th>\n",
       "      <th></th>\n",
       "    </tr>\n",
       "  </thead>\n",
       "  <tbody>\n",
       "    <tr>\n",
       "      <th>Bird</th>\n",
       "      <td>636</td>\n",
       "      <td>145</td>\n",
       "      <td>636</td>\n",
       "      <td>636</td>\n",
       "      <td>636</td>\n",
       "      <td>636</td>\n",
       "      <td>380</td>\n",
       "      <td>636</td>\n",
       "      <td>636</td>\n",
       "      <td>636</td>\n",
       "      <td>636</td>\n",
       "      <td>636</td>\n",
       "    </tr>\n",
       "    <tr>\n",
       "      <th>Cat</th>\n",
       "      <td>52092</td>\n",
       "      <td>30380</td>\n",
       "      <td>52092</td>\n",
       "      <td>52092</td>\n",
       "      <td>52092</td>\n",
       "      <td>52088</td>\n",
       "      <td>31815</td>\n",
       "      <td>52092</td>\n",
       "      <td>52091</td>\n",
       "      <td>52092</td>\n",
       "      <td>52092</td>\n",
       "      <td>52092</td>\n",
       "    </tr>\n",
       "    <tr>\n",
       "      <th>Dog</th>\n",
       "      <td>77091</td>\n",
       "      <td>64516</td>\n",
       "      <td>77091</td>\n",
       "      <td>77091</td>\n",
       "      <td>77091</td>\n",
       "      <td>77076</td>\n",
       "      <td>24590</td>\n",
       "      <td>77089</td>\n",
       "      <td>77089</td>\n",
       "      <td>77091</td>\n",
       "      <td>77091</td>\n",
       "      <td>77091</td>\n",
       "    </tr>\n",
       "    <tr>\n",
       "      <th>Livestock</th>\n",
       "      <td>25</td>\n",
       "      <td>3</td>\n",
       "      <td>25</td>\n",
       "      <td>25</td>\n",
       "      <td>25</td>\n",
       "      <td>25</td>\n",
       "      <td>19</td>\n",
       "      <td>25</td>\n",
       "      <td>25</td>\n",
       "      <td>25</td>\n",
       "      <td>25</td>\n",
       "      <td>25</td>\n",
       "    </tr>\n",
       "    <tr>\n",
       "      <th>Other</th>\n",
       "      <td>7253</td>\n",
       "      <td>1051</td>\n",
       "      <td>7253</td>\n",
       "      <td>7253</td>\n",
       "      <td>7253</td>\n",
       "      <td>7248</td>\n",
       "      <td>5849</td>\n",
       "      <td>7253</td>\n",
       "      <td>7251</td>\n",
       "      <td>7253</td>\n",
       "      <td>7253</td>\n",
       "      <td>7253</td>\n",
       "    </tr>\n",
       "  </tbody>\n",
       "</table>\n",
       "</div>"
      ],
      "text/plain": [
       "             Animal ID   Name  DateTime  MonthYear  Date of Birth  \\\n",
       "Animal Type                                                         \n",
       "Bird               636    145       636        636            636   \n",
       "Cat              52092  30380     52092      52092          52092   \n",
       "Dog              77091  64516     77091      77091          77091   \n",
       "Livestock           25      3        25         25             25   \n",
       "Other             7253   1051      7253       7253           7253   \n",
       "\n",
       "             Outcome Type  Outcome Subtype  Sex upon Outcome  \\\n",
       "Animal Type                                                    \n",
       "Bird                  636              380               636   \n",
       "Cat                 52088            31815             52092   \n",
       "Dog                 77076            24590             77089   \n",
       "Livestock              25               19                25   \n",
       "Other                7248             5849              7253   \n",
       "\n",
       "             Age upon Outcome  Breed  Color  Age in Days  \n",
       "Animal Type                                               \n",
       "Bird                      636    636    636          636  \n",
       "Cat                     52091  52092  52092        52092  \n",
       "Dog                     77089  77091  77091        77091  \n",
       "Livestock                  25     25     25           25  \n",
       "Other                    7251   7253   7253         7253  "
      ]
     },
     "execution_count": 15,
     "metadata": {},
     "output_type": "execute_result"
    }
   ],
   "source": [
    "# Let's try it out\n",
    "outcomes.groupby('Animal Type').count()"
   ]
  },
  {
   "cell_type": "code",
   "execution_count": 16,
   "metadata": {
    "hidden": true,
    "scrolled": true
   },
   "outputs": [
    {
     "data": {
      "text/plain": [
       "Animal Type\n",
       "Bird           636\n",
       "Cat          52092\n",
       "Dog          77091\n",
       "Livestock       25\n",
       "Other         7253\n",
       "Name: Animal ID, dtype: int64"
      ]
     },
     "execution_count": 16,
     "metadata": {},
     "output_type": "execute_result"
    }
   ],
   "source": [
    "# Let's try it out\n",
    "outcomes.groupby('Animal Type').count()['Animal ID']"
   ]
  },
  {
   "cell_type": "markdown",
   "metadata": {
    "heading_collapsed": true,
    "hidden": true
   },
   "source": [
    "## Exercise"
   ]
  },
  {
   "cell_type": "markdown",
   "metadata": {
    "hidden": true
   },
   "source": [
    "Use `.groupby()` to find the most recently born of each (main) animal type."
   ]
  },
  {
   "cell_type": "code",
   "execution_count": 17,
   "metadata": {
    "hidden": true
   },
   "outputs": [
    {
     "data": {
      "text/html": [
       "<div>\n",
       "<style scoped>\n",
       "    .dataframe tbody tr th:only-of-type {\n",
       "        vertical-align: middle;\n",
       "    }\n",
       "\n",
       "    .dataframe tbody tr th {\n",
       "        vertical-align: top;\n",
       "    }\n",
       "\n",
       "    .dataframe thead th {\n",
       "        text-align: right;\n",
       "    }\n",
       "</style>\n",
       "<table border=\"1\" class=\"dataframe\">\n",
       "  <thead>\n",
       "    <tr style=\"text-align: right;\">\n",
       "      <th></th>\n",
       "      <th>Animal ID</th>\n",
       "      <th>Name</th>\n",
       "      <th>DateTime</th>\n",
       "      <th>MonthYear</th>\n",
       "      <th>Date of Birth</th>\n",
       "      <th>Outcome Type</th>\n",
       "      <th>Outcome Subtype</th>\n",
       "      <th>Sex upon Outcome</th>\n",
       "      <th>Age upon Outcome</th>\n",
       "      <th>Breed</th>\n",
       "      <th>Color</th>\n",
       "      <th>Age in Days</th>\n",
       "    </tr>\n",
       "    <tr>\n",
       "      <th>Animal Type</th>\n",
       "      <th></th>\n",
       "      <th></th>\n",
       "      <th></th>\n",
       "      <th></th>\n",
       "      <th></th>\n",
       "      <th></th>\n",
       "      <th></th>\n",
       "      <th></th>\n",
       "      <th></th>\n",
       "      <th></th>\n",
       "      <th></th>\n",
       "      <th></th>\n",
       "    </tr>\n",
       "  </thead>\n",
       "  <tbody>\n",
       "    <tr>\n",
       "      <th>Bird</th>\n",
       "      <td>A851113</td>\n",
       "      <td>A840099</td>\n",
       "      <td>2022-02-10 08:07:00</td>\n",
       "      <td>Feb 2022</td>\n",
       "      <td>2022-01-06</td>\n",
       "      <td>Transfer</td>\n",
       "      <td>Partner</td>\n",
       "      <td>Unknown</td>\n",
       "      <td>5 weeks</td>\n",
       "      <td>Chicken</td>\n",
       "      <td>Yellow/White</td>\n",
       "      <td>35</td>\n",
       "    </tr>\n",
       "    <tr>\n",
       "      <th>Cat</th>\n",
       "      <td>A851809</td>\n",
       "      <td>94 Grams</td>\n",
       "      <td>2022-02-19 12:56:00</td>\n",
       "      <td>Feb 2022</td>\n",
       "      <td>2022-02-18</td>\n",
       "      <td>Transfer</td>\n",
       "      <td>Partner</td>\n",
       "      <td>Intact Female</td>\n",
       "      <td>1 day</td>\n",
       "      <td>Domestic Shorthair Mix</td>\n",
       "      <td>Black/White</td>\n",
       "      <td>1</td>\n",
       "    </tr>\n",
       "    <tr>\n",
       "      <th>Dog</th>\n",
       "      <td>A851912</td>\n",
       "      <td>A850924</td>\n",
       "      <td>2022-02-23 13:49:00</td>\n",
       "      <td>Feb 2022</td>\n",
       "      <td>2022-02-14</td>\n",
       "      <td>Return to Owner</td>\n",
       "      <td>Partner</td>\n",
       "      <td>Intact Female</td>\n",
       "      <td>1 weeks</td>\n",
       "      <td>Pit Bull</td>\n",
       "      <td>Black/White</td>\n",
       "      <td>9</td>\n",
       "    </tr>\n",
       "    <tr>\n",
       "      <th>Livestock</th>\n",
       "      <td>A826448</td>\n",
       "      <td>Peppa</td>\n",
       "      <td>2020-11-28 15:40:00</td>\n",
       "      <td>Nov 2020</td>\n",
       "      <td>2020-05-28</td>\n",
       "      <td>Euthanasia</td>\n",
       "      <td>Suffering</td>\n",
       "      <td>Intact Male</td>\n",
       "      <td>6 months</td>\n",
       "      <td>Pig</td>\n",
       "      <td>Black/White</td>\n",
       "      <td>184</td>\n",
       "    </tr>\n",
       "    <tr>\n",
       "      <th>Other</th>\n",
       "      <td>A851380</td>\n",
       "      <td>A848656</td>\n",
       "      <td>2022-02-11 09:43:00</td>\n",
       "      <td>Feb 2022</td>\n",
       "      <td>2022-02-11</td>\n",
       "      <td>Transfer</td>\n",
       "      <td>Partner</td>\n",
       "      <td>Unknown</td>\n",
       "      <td>0 years</td>\n",
       "      <td>Rabbit Sh</td>\n",
       "      <td>White</td>\n",
       "      <td>0</td>\n",
       "    </tr>\n",
       "  </tbody>\n",
       "</table>\n",
       "</div>"
      ],
      "text/plain": [
       "            Animal ID      Name            DateTime MonthYear Date of Birth  \\\n",
       "Animal Type                                                                   \n",
       "Bird          A851113   A840099 2022-02-10 08:07:00  Feb 2022    2022-01-06   \n",
       "Cat           A851809  94 Grams 2022-02-19 12:56:00  Feb 2022    2022-02-18   \n",
       "Dog           A851912   A850924 2022-02-23 13:49:00  Feb 2022    2022-02-14   \n",
       "Livestock     A826448     Peppa 2020-11-28 15:40:00  Nov 2020    2020-05-28   \n",
       "Other         A851380   A848656 2022-02-11 09:43:00  Feb 2022    2022-02-11   \n",
       "\n",
       "                Outcome Type Outcome Subtype Sex upon Outcome  \\\n",
       "Animal Type                                                     \n",
       "Bird                Transfer         Partner          Unknown   \n",
       "Cat                 Transfer         Partner    Intact Female   \n",
       "Dog          Return to Owner         Partner    Intact Female   \n",
       "Livestock         Euthanasia       Suffering      Intact Male   \n",
       "Other               Transfer         Partner          Unknown   \n",
       "\n",
       "            Age upon Outcome                   Breed         Color  \\\n",
       "Animal Type                                                          \n",
       "Bird                 5 weeks                 Chicken  Yellow/White   \n",
       "Cat                    1 day  Domestic Shorthair Mix   Black/White   \n",
       "Dog                  1 weeks                Pit Bull   Black/White   \n",
       "Livestock           6 months                     Pig   Black/White   \n",
       "Other                0 years               Rabbit Sh         White   \n",
       "\n",
       "             Age in Days  \n",
       "Animal Type               \n",
       "Bird                  35  \n",
       "Cat                    1  \n",
       "Dog                    9  \n",
       "Livestock            184  \n",
       "Other                  0  "
      ]
     },
     "execution_count": 17,
     "metadata": {},
     "output_type": "execute_result"
    }
   ],
   "source": [
    "# Your code here\n",
    "outcomes.sort_values('Date of Birth').groupby('Animal Type').last()"
   ]
  },
  {
   "cell_type": "code",
   "execution_count": 18,
   "metadata": {},
   "outputs": [
    {
     "data": {
      "text/html": [
       "<div>\n",
       "<style scoped>\n",
       "    .dataframe tbody tr th:only-of-type {\n",
       "        vertical-align: middle;\n",
       "    }\n",
       "\n",
       "    .dataframe tbody tr th {\n",
       "        vertical-align: top;\n",
       "    }\n",
       "\n",
       "    .dataframe thead th {\n",
       "        text-align: right;\n",
       "    }\n",
       "</style>\n",
       "<table border=\"1\" class=\"dataframe\">\n",
       "  <thead>\n",
       "    <tr style=\"text-align: right;\">\n",
       "      <th></th>\n",
       "      <th>Age in Days</th>\n",
       "    </tr>\n",
       "    <tr>\n",
       "      <th>Animal Type</th>\n",
       "      <th></th>\n",
       "    </tr>\n",
       "  </thead>\n",
       "  <tbody>\n",
       "    <tr>\n",
       "      <th>Bird</th>\n",
       "      <td>10996</td>\n",
       "    </tr>\n",
       "    <tr>\n",
       "      <th>Cat</th>\n",
       "      <td>8036</td>\n",
       "    </tr>\n",
       "    <tr>\n",
       "      <th>Dog</th>\n",
       "      <td>8766</td>\n",
       "    </tr>\n",
       "    <tr>\n",
       "      <th>Livestock</th>\n",
       "      <td>1844</td>\n",
       "    </tr>\n",
       "    <tr>\n",
       "      <th>Other</th>\n",
       "      <td>7671</td>\n",
       "    </tr>\n",
       "  </tbody>\n",
       "</table>\n",
       "</div>"
      ],
      "text/plain": [
       "             Age in Days\n",
       "Animal Type             \n",
       "Bird               10996\n",
       "Cat                 8036\n",
       "Dog                 8766\n",
       "Livestock           1844\n",
       "Other               7671"
      ]
     },
     "execution_count": 18,
     "metadata": {},
     "output_type": "execute_result"
    }
   ],
   "source": [
    "# Cameron's code\n",
    "outcomes.groupby('Animal Type').max('Date of Birth')"
   ]
  },
  {
   "cell_type": "markdown",
   "metadata": {
    "heading_collapsed": true
   },
   "source": [
    "# Pivoting a DataFrame"
   ]
  },
  {
   "cell_type": "markdown",
   "metadata": {
    "heading_collapsed": true,
    "hidden": true
   },
   "source": [
    "## `.pivot_table()`"
   ]
  },
  {
   "cell_type": "markdown",
   "metadata": {
    "hidden": true
   },
   "source": [
    "Those of you familiar with Excel have probably used Pivot Tables. Pandas has a similar functionality.\n",
    "\n",
    "Grouping by two different columns can be very helpful."
   ]
  },
  {
   "cell_type": "code",
   "execution_count": 19,
   "metadata": {
    "hidden": true
   },
   "outputs": [
    {
     "data": {
      "text/html": [
       "<div>\n",
       "<style scoped>\n",
       "    .dataframe tbody tr th:only-of-type {\n",
       "        vertical-align: middle;\n",
       "    }\n",
       "\n",
       "    .dataframe tbody tr th {\n",
       "        vertical-align: top;\n",
       "    }\n",
       "\n",
       "    .dataframe thead th {\n",
       "        text-align: right;\n",
       "    }\n",
       "</style>\n",
       "<table border=\"1\" class=\"dataframe\">\n",
       "  <thead>\n",
       "    <tr style=\"text-align: right;\">\n",
       "      <th></th>\n",
       "      <th></th>\n",
       "      <th>Age in Days</th>\n",
       "    </tr>\n",
       "    <tr>\n",
       "      <th>Outcome Type</th>\n",
       "      <th>Sex upon Outcome</th>\n",
       "      <th></th>\n",
       "    </tr>\n",
       "  </thead>\n",
       "  <tbody>\n",
       "    <tr>\n",
       "      <th rowspan=\"5\" valign=\"top\">Adoption</th>\n",
       "      <th>Intact Female</th>\n",
       "      <td>419.505568</td>\n",
       "    </tr>\n",
       "    <tr>\n",
       "      <th>Intact Male</th>\n",
       "      <td>476.596774</td>\n",
       "    </tr>\n",
       "    <tr>\n",
       "      <th>Neutered Male</th>\n",
       "      <td>651.126203</td>\n",
       "    </tr>\n",
       "    <tr>\n",
       "      <th>Spayed Female</th>\n",
       "      <td>648.050078</td>\n",
       "    </tr>\n",
       "    <tr>\n",
       "      <th>Unknown</th>\n",
       "      <td>389.964286</td>\n",
       "    </tr>\n",
       "    <tr>\n",
       "      <th rowspan=\"5\" valign=\"top\">Died</th>\n",
       "      <th>Intact Female</th>\n",
       "      <td>349.628049</td>\n",
       "    </tr>\n",
       "    <tr>\n",
       "      <th>Intact Male</th>\n",
       "      <td>304.392157</td>\n",
       "    </tr>\n",
       "    <tr>\n",
       "      <th>Neutered Male</th>\n",
       "      <td>1859.732673</td>\n",
       "    </tr>\n",
       "    <tr>\n",
       "      <th>Spayed Female</th>\n",
       "      <td>2099.905263</td>\n",
       "    </tr>\n",
       "    <tr>\n",
       "      <th>Unknown</th>\n",
       "      <td>311.192737</td>\n",
       "    </tr>\n",
       "    <tr>\n",
       "      <th rowspan=\"5\" valign=\"top\">Disposal</th>\n",
       "      <th>Intact Female</th>\n",
       "      <td>407.277778</td>\n",
       "    </tr>\n",
       "    <tr>\n",
       "      <th>Intact Male</th>\n",
       "      <td>735.935484</td>\n",
       "    </tr>\n",
       "    <tr>\n",
       "      <th>Neutered Male</th>\n",
       "      <td>1987.777778</td>\n",
       "    </tr>\n",
       "    <tr>\n",
       "      <th>Spayed Female</th>\n",
       "      <td>2470.166667</td>\n",
       "    </tr>\n",
       "    <tr>\n",
       "      <th>Unknown</th>\n",
       "      <td>447.166016</td>\n",
       "    </tr>\n",
       "    <tr>\n",
       "      <th rowspan=\"5\" valign=\"top\">Euthanasia</th>\n",
       "      <th>Intact Female</th>\n",
       "      <td>1133.424632</td>\n",
       "    </tr>\n",
       "    <tr>\n",
       "      <th>Intact Male</th>\n",
       "      <td>902.476300</td>\n",
       "    </tr>\n",
       "    <tr>\n",
       "      <th>Neutered Male</th>\n",
       "      <td>2226.837838</td>\n",
       "    </tr>\n",
       "    <tr>\n",
       "      <th>Spayed Female</th>\n",
       "      <td>2313.677966</td>\n",
       "    </tr>\n",
       "    <tr>\n",
       "      <th>Unknown</th>\n",
       "      <td>503.333588</td>\n",
       "    </tr>\n",
       "    <tr>\n",
       "      <th rowspan=\"5\" valign=\"top\">Missing</th>\n",
       "      <th>Intact Female</th>\n",
       "      <td>266.800000</td>\n",
       "    </tr>\n",
       "    <tr>\n",
       "      <th>Intact Male</th>\n",
       "      <td>340.846154</td>\n",
       "    </tr>\n",
       "    <tr>\n",
       "      <th>Neutered Male</th>\n",
       "      <td>1188.285714</td>\n",
       "    </tr>\n",
       "    <tr>\n",
       "      <th>Spayed Female</th>\n",
       "      <td>1262.733333</td>\n",
       "    </tr>\n",
       "    <tr>\n",
       "      <th>Unknown</th>\n",
       "      <td>169.250000</td>\n",
       "    </tr>\n",
       "    <tr>\n",
       "      <th rowspan=\"4\" valign=\"top\">Relocate</th>\n",
       "      <th>Intact Female</th>\n",
       "      <td>732.000000</td>\n",
       "    </tr>\n",
       "    <tr>\n",
       "      <th>Neutered Male</th>\n",
       "      <td>1105.000000</td>\n",
       "    </tr>\n",
       "    <tr>\n",
       "      <th>Spayed Female</th>\n",
       "      <td>495.000000</td>\n",
       "    </tr>\n",
       "    <tr>\n",
       "      <th>Unknown</th>\n",
       "      <td>612.200000</td>\n",
       "    </tr>\n",
       "    <tr>\n",
       "      <th rowspan=\"5\" valign=\"top\">Return to Owner</th>\n",
       "      <th>Intact Female</th>\n",
       "      <td>1067.053879</td>\n",
       "    </tr>\n",
       "    <tr>\n",
       "      <th>Intact Male</th>\n",
       "      <td>1110.232182</td>\n",
       "    </tr>\n",
       "    <tr>\n",
       "      <th>Neutered Male</th>\n",
       "      <td>1634.609964</td>\n",
       "    </tr>\n",
       "    <tr>\n",
       "      <th>Spayed Female</th>\n",
       "      <td>1751.059214</td>\n",
       "    </tr>\n",
       "    <tr>\n",
       "      <th>Unknown</th>\n",
       "      <td>764.225275</td>\n",
       "    </tr>\n",
       "    <tr>\n",
       "      <th rowspan=\"5\" valign=\"top\">Rto-Adopt</th>\n",
       "      <th>Intact Female</th>\n",
       "      <td>1481.142857</td>\n",
       "    </tr>\n",
       "    <tr>\n",
       "      <th>Intact Male</th>\n",
       "      <td>1503.175000</td>\n",
       "    </tr>\n",
       "    <tr>\n",
       "      <th>Neutered Male</th>\n",
       "      <td>1254.399577</td>\n",
       "    </tr>\n",
       "    <tr>\n",
       "      <th>Spayed Female</th>\n",
       "      <td>1252.076923</td>\n",
       "    </tr>\n",
       "    <tr>\n",
       "      <th>Unknown</th>\n",
       "      <td>1590.000000</td>\n",
       "    </tr>\n",
       "    <tr>\n",
       "      <th rowspan=\"5\" valign=\"top\">Transfer</th>\n",
       "      <th>Intact Female</th>\n",
       "      <td>409.499911</td>\n",
       "    </tr>\n",
       "    <tr>\n",
       "      <th>Intact Male</th>\n",
       "      <td>351.252856</td>\n",
       "    </tr>\n",
       "    <tr>\n",
       "      <th>Neutered Male</th>\n",
       "      <td>1126.408920</td>\n",
       "    </tr>\n",
       "    <tr>\n",
       "      <th>Spayed Female</th>\n",
       "      <td>1097.636076</td>\n",
       "    </tr>\n",
       "    <tr>\n",
       "      <th>Unknown</th>\n",
       "      <td>169.775301</td>\n",
       "    </tr>\n",
       "  </tbody>\n",
       "</table>\n",
       "</div>"
      ],
      "text/plain": [
       "                                  Age in Days\n",
       "Outcome Type    Sex upon Outcome             \n",
       "Adoption        Intact Female      419.505568\n",
       "                Intact Male        476.596774\n",
       "                Neutered Male      651.126203\n",
       "                Spayed Female      648.050078\n",
       "                Unknown            389.964286\n",
       "Died            Intact Female      349.628049\n",
       "                Intact Male        304.392157\n",
       "                Neutered Male     1859.732673\n",
       "                Spayed Female     2099.905263\n",
       "                Unknown            311.192737\n",
       "Disposal        Intact Female      407.277778\n",
       "                Intact Male        735.935484\n",
       "                Neutered Male     1987.777778\n",
       "                Spayed Female     2470.166667\n",
       "                Unknown            447.166016\n",
       "Euthanasia      Intact Female     1133.424632\n",
       "                Intact Male        902.476300\n",
       "                Neutered Male     2226.837838\n",
       "                Spayed Female     2313.677966\n",
       "                Unknown            503.333588\n",
       "Missing         Intact Female      266.800000\n",
       "                Intact Male        340.846154\n",
       "                Neutered Male     1188.285714\n",
       "                Spayed Female     1262.733333\n",
       "                Unknown            169.250000\n",
       "Relocate        Intact Female      732.000000\n",
       "                Neutered Male     1105.000000\n",
       "                Spayed Female      495.000000\n",
       "                Unknown            612.200000\n",
       "Return to Owner Intact Female     1067.053879\n",
       "                Intact Male       1110.232182\n",
       "                Neutered Male     1634.609964\n",
       "                Spayed Female     1751.059214\n",
       "                Unknown            764.225275\n",
       "Rto-Adopt       Intact Female     1481.142857\n",
       "                Intact Male       1503.175000\n",
       "                Neutered Male     1254.399577\n",
       "                Spayed Female     1252.076923\n",
       "                Unknown           1590.000000\n",
       "Transfer        Intact Female      409.499911\n",
       "                Intact Male        351.252856\n",
       "                Neutered Male     1126.408920\n",
       "                Spayed Female     1097.636076\n",
       "                Unknown            169.775301"
      ]
     },
     "execution_count": 19,
     "metadata": {},
     "output_type": "execute_result"
    }
   ],
   "source": [
    "# Groupby two columns\n",
    "outcomes.groupby(by=['Outcome Type', 'Sex upon Outcome']).agg('mean')"
   ]
  },
  {
   "cell_type": "markdown",
   "metadata": {
    "hidden": true
   },
   "source": [
    "But it has the unsavory side effect of creating a two-level index. This can be a good time to use `.pivot_table()`.\n",
    "\n",
    "(There is also a `.pivot()`. For the somewhat subtle differences, see [here](https://stackoverflow.com/questions/30960338/pandas-difference-between-pivot-and-pivot-table-why-is-only-pivot-table-workin).)"
   ]
  },
  {
   "cell_type": "code",
   "execution_count": 24,
   "metadata": {},
   "outputs": [
    {
     "data": {
      "text/html": [
       "<div>\n",
       "<style scoped>\n",
       "    .dataframe tbody tr th:only-of-type {\n",
       "        vertical-align: middle;\n",
       "    }\n",
       "\n",
       "    .dataframe tbody tr th {\n",
       "        vertical-align: top;\n",
       "    }\n",
       "\n",
       "    .dataframe thead th {\n",
       "        text-align: right;\n",
       "    }\n",
       "</style>\n",
       "<table border=\"1\" class=\"dataframe\">\n",
       "  <thead>\n",
       "    <tr style=\"text-align: right;\">\n",
       "      <th></th>\n",
       "      <th>Animal ID</th>\n",
       "      <th>Name</th>\n",
       "      <th>DateTime</th>\n",
       "      <th>MonthYear</th>\n",
       "      <th>Date of Birth</th>\n",
       "      <th>Outcome Type</th>\n",
       "      <th>Outcome Subtype</th>\n",
       "      <th>Animal Type</th>\n",
       "      <th>Sex upon Outcome</th>\n",
       "      <th>Age upon Outcome</th>\n",
       "      <th>Breed</th>\n",
       "      <th>Color</th>\n",
       "      <th>Age in Days</th>\n",
       "    </tr>\n",
       "  </thead>\n",
       "  <tbody>\n",
       "    <tr>\n",
       "      <th>0</th>\n",
       "      <td>A794011</td>\n",
       "      <td>Chunk</td>\n",
       "      <td>2019-05-08 18:20:00</td>\n",
       "      <td>May 2019</td>\n",
       "      <td>2017-05-02</td>\n",
       "      <td>Rto-Adopt</td>\n",
       "      <td>NaN</td>\n",
       "      <td>Cat</td>\n",
       "      <td>Neutered Male</td>\n",
       "      <td>2 years</td>\n",
       "      <td>Domestic Shorthair Mix</td>\n",
       "      <td>Brown Tabby/White</td>\n",
       "      <td>736</td>\n",
       "    </tr>\n",
       "    <tr>\n",
       "      <th>1</th>\n",
       "      <td>A776359</td>\n",
       "      <td>Gizmo</td>\n",
       "      <td>2018-07-18 16:02:00</td>\n",
       "      <td>Jul 2018</td>\n",
       "      <td>2017-07-12</td>\n",
       "      <td>Adoption</td>\n",
       "      <td>NaN</td>\n",
       "      <td>Dog</td>\n",
       "      <td>Neutered Male</td>\n",
       "      <td>1 year</td>\n",
       "      <td>Chihuahua Shorthair Mix</td>\n",
       "      <td>White/Brown</td>\n",
       "      <td>371</td>\n",
       "    </tr>\n",
       "    <tr>\n",
       "      <th>2</th>\n",
       "      <td>A821648</td>\n",
       "      <td>NaN</td>\n",
       "      <td>2020-08-16 11:38:00</td>\n",
       "      <td>Aug 2020</td>\n",
       "      <td>2019-08-16</td>\n",
       "      <td>Euthanasia</td>\n",
       "      <td>NaN</td>\n",
       "      <td>Other</td>\n",
       "      <td>Unknown</td>\n",
       "      <td>1 year</td>\n",
       "      <td>Raccoon</td>\n",
       "      <td>Gray</td>\n",
       "      <td>366</td>\n",
       "    </tr>\n",
       "    <tr>\n",
       "      <th>3</th>\n",
       "      <td>A720371</td>\n",
       "      <td>Moose</td>\n",
       "      <td>2016-02-13 17:59:00</td>\n",
       "      <td>Feb 2016</td>\n",
       "      <td>2015-10-08</td>\n",
       "      <td>Adoption</td>\n",
       "      <td>NaN</td>\n",
       "      <td>Dog</td>\n",
       "      <td>Neutered Male</td>\n",
       "      <td>4 months</td>\n",
       "      <td>Anatol Shepherd/Labrador Retriever</td>\n",
       "      <td>Buff</td>\n",
       "      <td>128</td>\n",
       "    </tr>\n",
       "    <tr>\n",
       "      <th>4</th>\n",
       "      <td>A674754</td>\n",
       "      <td>NaN</td>\n",
       "      <td>2014-03-18 11:47:00</td>\n",
       "      <td>Mar 2014</td>\n",
       "      <td>2014-03-12</td>\n",
       "      <td>Transfer</td>\n",
       "      <td>Partner</td>\n",
       "      <td>Cat</td>\n",
       "      <td>Intact Male</td>\n",
       "      <td>6 days</td>\n",
       "      <td>Domestic Shorthair Mix</td>\n",
       "      <td>Orange Tabby</td>\n",
       "      <td>6</td>\n",
       "    </tr>\n",
       "    <tr>\n",
       "      <th>...</th>\n",
       "      <td>...</td>\n",
       "      <td>...</td>\n",
       "      <td>...</td>\n",
       "      <td>...</td>\n",
       "      <td>...</td>\n",
       "      <td>...</td>\n",
       "      <td>...</td>\n",
       "      <td>...</td>\n",
       "      <td>...</td>\n",
       "      <td>...</td>\n",
       "      <td>...</td>\n",
       "      <td>...</td>\n",
       "      <td>...</td>\n",
       "    </tr>\n",
       "    <tr>\n",
       "      <th>137092</th>\n",
       "      <td>A850166</td>\n",
       "      <td>Rainey</td>\n",
       "      <td>2022-01-24 18:20:00</td>\n",
       "      <td>Jan 2022</td>\n",
       "      <td>2021-11-19</td>\n",
       "      <td>Adoption</td>\n",
       "      <td>NaN</td>\n",
       "      <td>Cat</td>\n",
       "      <td>Intact Male</td>\n",
       "      <td>2 months</td>\n",
       "      <td>Siamese</td>\n",
       "      <td>Seal Point</td>\n",
       "      <td>66</td>\n",
       "    </tr>\n",
       "    <tr>\n",
       "      <th>137093</th>\n",
       "      <td>A852031</td>\n",
       "      <td>Noodle</td>\n",
       "      <td>2022-02-28 12:50:00</td>\n",
       "      <td>Feb 2022</td>\n",
       "      <td>2020-02-23</td>\n",
       "      <td>Transfer</td>\n",
       "      <td>Partner</td>\n",
       "      <td>Dog</td>\n",
       "      <td>Neutered Male</td>\n",
       "      <td>2 years</td>\n",
       "      <td>Pomeranian/Chihuahua Longhair</td>\n",
       "      <td>Buff</td>\n",
       "      <td>736</td>\n",
       "    </tr>\n",
       "    <tr>\n",
       "      <th>137094</th>\n",
       "      <td>A845839</td>\n",
       "      <td>*Carmen</td>\n",
       "      <td>2022-02-28 13:49:00</td>\n",
       "      <td>Feb 2022</td>\n",
       "      <td>2020-05-05</td>\n",
       "      <td>Adoption</td>\n",
       "      <td>Foster</td>\n",
       "      <td>Dog</td>\n",
       "      <td>Spayed Female</td>\n",
       "      <td>1 year</td>\n",
       "      <td>Pit Bull Mix</td>\n",
       "      <td>Brown</td>\n",
       "      <td>664</td>\n",
       "    </tr>\n",
       "    <tr>\n",
       "      <th>137095</th>\n",
       "      <td>A844321</td>\n",
       "      <td>Mia Marie</td>\n",
       "      <td>2022-02-28 13:04:00</td>\n",
       "      <td>Feb 2022</td>\n",
       "      <td>2013-10-15</td>\n",
       "      <td>Adoption</td>\n",
       "      <td>Foster</td>\n",
       "      <td>Dog</td>\n",
       "      <td>Spayed Female</td>\n",
       "      <td>8 years</td>\n",
       "      <td>Pit Bull</td>\n",
       "      <td>Black/White</td>\n",
       "      <td>3058</td>\n",
       "    </tr>\n",
       "    <tr>\n",
       "      <th>137096</th>\n",
       "      <td>A813933</td>\n",
       "      <td>Lucille</td>\n",
       "      <td>2022-02-28 14:19:00</td>\n",
       "      <td>Feb 2022</td>\n",
       "      <td>2018-12-21</td>\n",
       "      <td>Adoption</td>\n",
       "      <td>NaN</td>\n",
       "      <td>Dog</td>\n",
       "      <td>Spayed Female</td>\n",
       "      <td>3 years</td>\n",
       "      <td>Belgian Malinois</td>\n",
       "      <td>Brown/Black</td>\n",
       "      <td>1165</td>\n",
       "    </tr>\n",
       "  </tbody>\n",
       "</table>\n",
       "<p>137097 rows × 13 columns</p>\n",
       "</div>"
      ],
      "text/plain": [
       "       Animal ID       Name            DateTime MonthYear Date of Birth  \\\n",
       "0        A794011      Chunk 2019-05-08 18:20:00  May 2019    2017-05-02   \n",
       "1        A776359      Gizmo 2018-07-18 16:02:00  Jul 2018    2017-07-12   \n",
       "2        A821648        NaN 2020-08-16 11:38:00  Aug 2020    2019-08-16   \n",
       "3        A720371      Moose 2016-02-13 17:59:00  Feb 2016    2015-10-08   \n",
       "4        A674754        NaN 2014-03-18 11:47:00  Mar 2014    2014-03-12   \n",
       "...          ...        ...                 ...       ...           ...   \n",
       "137092   A850166     Rainey 2022-01-24 18:20:00  Jan 2022    2021-11-19   \n",
       "137093   A852031     Noodle 2022-02-28 12:50:00  Feb 2022    2020-02-23   \n",
       "137094   A845839    *Carmen 2022-02-28 13:49:00  Feb 2022    2020-05-05   \n",
       "137095   A844321  Mia Marie 2022-02-28 13:04:00  Feb 2022    2013-10-15   \n",
       "137096   A813933    Lucille 2022-02-28 14:19:00  Feb 2022    2018-12-21   \n",
       "\n",
       "       Outcome Type Outcome Subtype Animal Type Sex upon Outcome  \\\n",
       "0         Rto-Adopt             NaN         Cat    Neutered Male   \n",
       "1          Adoption             NaN         Dog    Neutered Male   \n",
       "2        Euthanasia             NaN       Other          Unknown   \n",
       "3          Adoption             NaN         Dog    Neutered Male   \n",
       "4          Transfer         Partner         Cat      Intact Male   \n",
       "...             ...             ...         ...              ...   \n",
       "137092     Adoption             NaN         Cat      Intact Male   \n",
       "137093     Transfer         Partner         Dog    Neutered Male   \n",
       "137094     Adoption          Foster         Dog    Spayed Female   \n",
       "137095     Adoption          Foster         Dog    Spayed Female   \n",
       "137096     Adoption             NaN         Dog    Spayed Female   \n",
       "\n",
       "       Age upon Outcome                               Breed  \\\n",
       "0               2 years              Domestic Shorthair Mix   \n",
       "1                1 year             Chihuahua Shorthair Mix   \n",
       "2                1 year                             Raccoon   \n",
       "3              4 months  Anatol Shepherd/Labrador Retriever   \n",
       "4                6 days              Domestic Shorthair Mix   \n",
       "...                 ...                                 ...   \n",
       "137092         2 months                             Siamese   \n",
       "137093          2 years       Pomeranian/Chihuahua Longhair   \n",
       "137094           1 year                        Pit Bull Mix   \n",
       "137095          8 years                            Pit Bull   \n",
       "137096          3 years                    Belgian Malinois   \n",
       "\n",
       "                    Color  Age in Days  \n",
       "0       Brown Tabby/White          736  \n",
       "1             White/Brown          371  \n",
       "2                    Gray          366  \n",
       "3                    Buff          128  \n",
       "4            Orange Tabby            6  \n",
       "...                   ...          ...  \n",
       "137092         Seal Point           66  \n",
       "137093               Buff          736  \n",
       "137094              Brown          664  \n",
       "137095        Black/White         3058  \n",
       "137096        Brown/Black         1165  \n",
       "\n",
       "[137097 rows x 13 columns]"
      ]
     },
     "execution_count": 24,
     "metadata": {},
     "output_type": "execute_result"
    }
   ],
   "source": [
    "outcomes"
   ]
  },
  {
   "cell_type": "code",
   "execution_count": 20,
   "metadata": {
    "hidden": true
   },
   "outputs": [
    {
     "data": {
      "text/html": [
       "<div>\n",
       "<style scoped>\n",
       "    .dataframe tbody tr th:only-of-type {\n",
       "        vertical-align: middle;\n",
       "    }\n",
       "\n",
       "    .dataframe tbody tr th {\n",
       "        vertical-align: top;\n",
       "    }\n",
       "\n",
       "    .dataframe thead tr th {\n",
       "        text-align: left;\n",
       "    }\n",
       "\n",
       "    .dataframe thead tr:last-of-type th {\n",
       "        text-align: right;\n",
       "    }\n",
       "</style>\n",
       "<table border=\"1\" class=\"dataframe\">\n",
       "  <thead>\n",
       "    <tr>\n",
       "      <th></th>\n",
       "      <th colspan=\"5\" halign=\"left\">Age in Days</th>\n",
       "    </tr>\n",
       "    <tr>\n",
       "      <th>Sex upon Outcome</th>\n",
       "      <th>Intact Female</th>\n",
       "      <th>Intact Male</th>\n",
       "      <th>Neutered Male</th>\n",
       "      <th>Spayed Female</th>\n",
       "      <th>Unknown</th>\n",
       "    </tr>\n",
       "    <tr>\n",
       "      <th>Outcome Type</th>\n",
       "      <th></th>\n",
       "      <th></th>\n",
       "      <th></th>\n",
       "      <th></th>\n",
       "      <th></th>\n",
       "    </tr>\n",
       "  </thead>\n",
       "  <tbody>\n",
       "    <tr>\n",
       "      <th>Adoption</th>\n",
       "      <td>419.505568</td>\n",
       "      <td>476.596774</td>\n",
       "      <td>651.126203</td>\n",
       "      <td>648.050078</td>\n",
       "      <td>389.964286</td>\n",
       "    </tr>\n",
       "    <tr>\n",
       "      <th>Died</th>\n",
       "      <td>349.628049</td>\n",
       "      <td>304.392157</td>\n",
       "      <td>1859.732673</td>\n",
       "      <td>2099.905263</td>\n",
       "      <td>311.192737</td>\n",
       "    </tr>\n",
       "    <tr>\n",
       "      <th>Disposal</th>\n",
       "      <td>407.277778</td>\n",
       "      <td>735.935484</td>\n",
       "      <td>1987.777778</td>\n",
       "      <td>2470.166667</td>\n",
       "      <td>447.166016</td>\n",
       "    </tr>\n",
       "    <tr>\n",
       "      <th>Euthanasia</th>\n",
       "      <td>1133.424632</td>\n",
       "      <td>902.476300</td>\n",
       "      <td>2226.837838</td>\n",
       "      <td>2313.677966</td>\n",
       "      <td>503.333588</td>\n",
       "    </tr>\n",
       "    <tr>\n",
       "      <th>Missing</th>\n",
       "      <td>266.800000</td>\n",
       "      <td>340.846154</td>\n",
       "      <td>1188.285714</td>\n",
       "      <td>1262.733333</td>\n",
       "      <td>169.250000</td>\n",
       "    </tr>\n",
       "    <tr>\n",
       "      <th>Relocate</th>\n",
       "      <td>732.000000</td>\n",
       "      <td>NaN</td>\n",
       "      <td>1105.000000</td>\n",
       "      <td>495.000000</td>\n",
       "      <td>612.200000</td>\n",
       "    </tr>\n",
       "    <tr>\n",
       "      <th>Return to Owner</th>\n",
       "      <td>1067.053879</td>\n",
       "      <td>1110.232182</td>\n",
       "      <td>1634.609964</td>\n",
       "      <td>1751.059214</td>\n",
       "      <td>764.225275</td>\n",
       "    </tr>\n",
       "    <tr>\n",
       "      <th>Rto-Adopt</th>\n",
       "      <td>1481.142857</td>\n",
       "      <td>1503.175000</td>\n",
       "      <td>1254.399577</td>\n",
       "      <td>1252.076923</td>\n",
       "      <td>1590.000000</td>\n",
       "    </tr>\n",
       "    <tr>\n",
       "      <th>Transfer</th>\n",
       "      <td>409.499911</td>\n",
       "      <td>351.252856</td>\n",
       "      <td>1126.408920</td>\n",
       "      <td>1097.636076</td>\n",
       "      <td>169.775301</td>\n",
       "    </tr>\n",
       "  </tbody>\n",
       "</table>\n",
       "</div>"
      ],
      "text/plain": [
       "                   Age in Days                                           \\\n",
       "Sex upon Outcome Intact Female  Intact Male Neutered Male Spayed Female   \n",
       "Outcome Type                                                              \n",
       "Adoption            419.505568   476.596774    651.126203    648.050078   \n",
       "Died                349.628049   304.392157   1859.732673   2099.905263   \n",
       "Disposal            407.277778   735.935484   1987.777778   2470.166667   \n",
       "Euthanasia         1133.424632   902.476300   2226.837838   2313.677966   \n",
       "Missing             266.800000   340.846154   1188.285714   1262.733333   \n",
       "Relocate            732.000000          NaN   1105.000000    495.000000   \n",
       "Return to Owner    1067.053879  1110.232182   1634.609964   1751.059214   \n",
       "Rto-Adopt          1481.142857  1503.175000   1254.399577   1252.076923   \n",
       "Transfer            409.499911   351.252856   1126.408920   1097.636076   \n",
       "\n",
       "                               \n",
       "Sex upon Outcome      Unknown  \n",
       "Outcome Type                   \n",
       "Adoption           389.964286  \n",
       "Died               311.192737  \n",
       "Disposal           447.166016  \n",
       "Euthanasia         503.333588  \n",
       "Missing            169.250000  \n",
       "Relocate           612.200000  \n",
       "Return to Owner    764.225275  \n",
       "Rto-Adopt         1590.000000  \n",
       "Transfer           169.775301  "
      ]
     },
     "execution_count": 20,
     "metadata": {},
     "output_type": "execute_result"
    }
   ],
   "source": [
    "# Now try with a pivot table\n",
    "outcomes.pivot_table(index='Outcome Type', columns='Sex upon Outcome', aggfunc='mean')"
   ]
  },
  {
   "cell_type": "markdown",
   "metadata": {
    "heading_collapsed": true
   },
   "source": [
    "# Methods for Combining DataFrames: `.join()`, `.merge()`, `.concat()`\n",
    "\n",
    "Many ways to combine dataframes! Luckily, pandas has great docs: https://pandas.pydata.org/pandas-docs/stable/user_guide/merging.html"
   ]
  },
  {
   "cell_type": "markdown",
   "metadata": {
    "heading_collapsed": true,
    "hidden": true
   },
   "source": [
    "## `.join()`"
   ]
  },
  {
   "cell_type": "code",
   "execution_count": 21,
   "metadata": {
    "hidden": true
   },
   "outputs": [
    {
     "data": {
      "text/html": [
       "<div>\n",
       "<style scoped>\n",
       "    .dataframe tbody tr th:only-of-type {\n",
       "        vertical-align: middle;\n",
       "    }\n",
       "\n",
       "    .dataframe tbody tr th {\n",
       "        vertical-align: top;\n",
       "    }\n",
       "\n",
       "    .dataframe thead th {\n",
       "        text-align: right;\n",
       "    }\n",
       "</style>\n",
       "<table border=\"1\" class=\"dataframe\">\n",
       "  <thead>\n",
       "    <tr style=\"text-align: right;\">\n",
       "      <th></th>\n",
       "      <th>age</th>\n",
       "      <th>HP</th>\n",
       "    </tr>\n",
       "  </thead>\n",
       "  <tbody>\n",
       "    <tr>\n",
       "      <th>0</th>\n",
       "      <td>63</td>\n",
       "      <td>142</td>\n",
       "    </tr>\n",
       "    <tr>\n",
       "      <th>1</th>\n",
       "      <td>33</td>\n",
       "      <td>47</td>\n",
       "    </tr>\n",
       "  </tbody>\n",
       "</table>\n",
       "</div>"
      ],
      "text/plain": [
       "   age   HP\n",
       "0   63  142\n",
       "1   33   47"
      ]
     },
     "execution_count": 21,
     "metadata": {},
     "output_type": "execute_result"
    }
   ],
   "source": [
    "toy1 = pd.DataFrame([[63, 142], [33, 47]], columns=['age', 'HP'])\n",
    "toy2 = pd.DataFrame([[63, 100], [33, 200]], columns=['age', 'MP'])\n",
    "\n",
    "toy1"
   ]
  },
  {
   "cell_type": "code",
   "execution_count": 22,
   "metadata": {
    "hidden": true
   },
   "outputs": [
    {
     "data": {
      "text/html": [
       "<div>\n",
       "<style scoped>\n",
       "    .dataframe tbody tr th:only-of-type {\n",
       "        vertical-align: middle;\n",
       "    }\n",
       "\n",
       "    .dataframe tbody tr th {\n",
       "        vertical-align: top;\n",
       "    }\n",
       "\n",
       "    .dataframe thead th {\n",
       "        text-align: right;\n",
       "    }\n",
       "</style>\n",
       "<table border=\"1\" class=\"dataframe\">\n",
       "  <thead>\n",
       "    <tr style=\"text-align: right;\">\n",
       "      <th></th>\n",
       "      <th>age</th>\n",
       "      <th>MP</th>\n",
       "    </tr>\n",
       "  </thead>\n",
       "  <tbody>\n",
       "    <tr>\n",
       "      <th>0</th>\n",
       "      <td>63</td>\n",
       "      <td>100</td>\n",
       "    </tr>\n",
       "    <tr>\n",
       "      <th>1</th>\n",
       "      <td>33</td>\n",
       "      <td>200</td>\n",
       "    </tr>\n",
       "  </tbody>\n",
       "</table>\n",
       "</div>"
      ],
      "text/plain": [
       "   age   MP\n",
       "0   63  100\n",
       "1   33  200"
      ]
     },
     "execution_count": 22,
     "metadata": {},
     "output_type": "execute_result"
    }
   ],
   "source": [
    "toy2"
   ]
  },
  {
   "cell_type": "code",
   "execution_count": 23,
   "metadata": {
    "hidden": true
   },
   "outputs": [
    {
     "ename": "ValueError",
     "evalue": "columns overlap but no suffix specified: Index(['age'], dtype='object')",
     "output_type": "error",
     "traceback": [
      "\u001b[1;31m---------------------------------------------------------------------------\u001b[0m",
      "\u001b[1;31mValueError\u001b[0m                                Traceback (most recent call last)",
      "\u001b[1;32m<ipython-input-23-072ee9277ebb>\u001b[0m in \u001b[0;36m<module>\u001b[1;34m\u001b[0m\n\u001b[0;32m      1\u001b[0m \u001b[1;31m# We can't just join these as they are, since we haven't specified our suffixes\u001b[0m\u001b[1;33m\u001b[0m\u001b[1;33m\u001b[0m\u001b[1;33m\u001b[0m\u001b[0m\n\u001b[1;32m----> 2\u001b[1;33m \u001b[0mtoy1\u001b[0m\u001b[1;33m.\u001b[0m\u001b[0mjoin\u001b[0m\u001b[1;33m(\u001b[0m\u001b[0mtoy2\u001b[0m\u001b[1;33m)\u001b[0m\u001b[1;33m\u001b[0m\u001b[1;33m\u001b[0m\u001b[0m\n\u001b[0m",
      "\u001b[1;32m~\\anaconda3\\envs\\learn-env\\lib\\site-packages\\pandas\\core\\frame.py\u001b[0m in \u001b[0;36mjoin\u001b[1;34m(self, other, on, how, lsuffix, rsuffix, sort)\u001b[0m\n\u001b[0;32m   7868\u001b[0m         \u001b[1;36m5\u001b[0m  \u001b[0mK5\u001b[0m  \u001b[0mA5\u001b[0m  \u001b[0mNaN\u001b[0m\u001b[1;33m\u001b[0m\u001b[1;33m\u001b[0m\u001b[0m\n\u001b[0;32m   7869\u001b[0m         \"\"\"\n\u001b[1;32m-> 7870\u001b[1;33m         return self._join_compat(\n\u001b[0m\u001b[0;32m   7871\u001b[0m             \u001b[0mother\u001b[0m\u001b[1;33m,\u001b[0m \u001b[0mon\u001b[0m\u001b[1;33m=\u001b[0m\u001b[0mon\u001b[0m\u001b[1;33m,\u001b[0m \u001b[0mhow\u001b[0m\u001b[1;33m=\u001b[0m\u001b[0mhow\u001b[0m\u001b[1;33m,\u001b[0m \u001b[0mlsuffix\u001b[0m\u001b[1;33m=\u001b[0m\u001b[0mlsuffix\u001b[0m\u001b[1;33m,\u001b[0m \u001b[0mrsuffix\u001b[0m\u001b[1;33m=\u001b[0m\u001b[0mrsuffix\u001b[0m\u001b[1;33m,\u001b[0m \u001b[0msort\u001b[0m\u001b[1;33m=\u001b[0m\u001b[0msort\u001b[0m\u001b[1;33m\u001b[0m\u001b[1;33m\u001b[0m\u001b[0m\n\u001b[0;32m   7872\u001b[0m         )\n",
      "\u001b[1;32m~\\anaconda3\\envs\\learn-env\\lib\\site-packages\\pandas\\core\\frame.py\u001b[0m in \u001b[0;36m_join_compat\u001b[1;34m(self, other, on, how, lsuffix, rsuffix, sort)\u001b[0m\n\u001b[0;32m   7884\u001b[0m \u001b[1;33m\u001b[0m\u001b[0m\n\u001b[0;32m   7885\u001b[0m         \u001b[1;32mif\u001b[0m \u001b[0misinstance\u001b[0m\u001b[1;33m(\u001b[0m\u001b[0mother\u001b[0m\u001b[1;33m,\u001b[0m \u001b[0mDataFrame\u001b[0m\u001b[1;33m)\u001b[0m\u001b[1;33m:\u001b[0m\u001b[1;33m\u001b[0m\u001b[1;33m\u001b[0m\u001b[0m\n\u001b[1;32m-> 7886\u001b[1;33m             return merge(\n\u001b[0m\u001b[0;32m   7887\u001b[0m                 \u001b[0mself\u001b[0m\u001b[1;33m,\u001b[0m\u001b[1;33m\u001b[0m\u001b[1;33m\u001b[0m\u001b[0m\n\u001b[0;32m   7888\u001b[0m                 \u001b[0mother\u001b[0m\u001b[1;33m,\u001b[0m\u001b[1;33m\u001b[0m\u001b[1;33m\u001b[0m\u001b[0m\n",
      "\u001b[1;32m~\\anaconda3\\envs\\learn-env\\lib\\site-packages\\pandas\\core\\reshape\\merge.py\u001b[0m in \u001b[0;36mmerge\u001b[1;34m(left, right, how, on, left_on, right_on, left_index, right_index, sort, suffixes, copy, indicator, validate)\u001b[0m\n\u001b[0;32m     87\u001b[0m         \u001b[0mvalidate\u001b[0m\u001b[1;33m=\u001b[0m\u001b[0mvalidate\u001b[0m\u001b[1;33m,\u001b[0m\u001b[1;33m\u001b[0m\u001b[1;33m\u001b[0m\u001b[0m\n\u001b[0;32m     88\u001b[0m     )\n\u001b[1;32m---> 89\u001b[1;33m     \u001b[1;32mreturn\u001b[0m \u001b[0mop\u001b[0m\u001b[1;33m.\u001b[0m\u001b[0mget_result\u001b[0m\u001b[1;33m(\u001b[0m\u001b[1;33m)\u001b[0m\u001b[1;33m\u001b[0m\u001b[1;33m\u001b[0m\u001b[0m\n\u001b[0m\u001b[0;32m     90\u001b[0m \u001b[1;33m\u001b[0m\u001b[0m\n\u001b[0;32m     91\u001b[0m \u001b[1;33m\u001b[0m\u001b[0m\n",
      "\u001b[1;32m~\\anaconda3\\envs\\learn-env\\lib\\site-packages\\pandas\\core\\reshape\\merge.py\u001b[0m in \u001b[0;36mget_result\u001b[1;34m(self)\u001b[0m\n\u001b[0;32m    668\u001b[0m         \u001b[0mjoin_index\u001b[0m\u001b[1;33m,\u001b[0m \u001b[0mleft_indexer\u001b[0m\u001b[1;33m,\u001b[0m \u001b[0mright_indexer\u001b[0m \u001b[1;33m=\u001b[0m \u001b[0mself\u001b[0m\u001b[1;33m.\u001b[0m\u001b[0m_get_join_info\u001b[0m\u001b[1;33m(\u001b[0m\u001b[1;33m)\u001b[0m\u001b[1;33m\u001b[0m\u001b[1;33m\u001b[0m\u001b[0m\n\u001b[0;32m    669\u001b[0m \u001b[1;33m\u001b[0m\u001b[0m\n\u001b[1;32m--> 670\u001b[1;33m         llabels, rlabels = _items_overlap_with_suffix(\n\u001b[0m\u001b[0;32m    671\u001b[0m             \u001b[0mself\u001b[0m\u001b[1;33m.\u001b[0m\u001b[0mleft\u001b[0m\u001b[1;33m.\u001b[0m\u001b[0m_info_axis\u001b[0m\u001b[1;33m,\u001b[0m \u001b[0mself\u001b[0m\u001b[1;33m.\u001b[0m\u001b[0mright\u001b[0m\u001b[1;33m.\u001b[0m\u001b[0m_info_axis\u001b[0m\u001b[1;33m,\u001b[0m \u001b[0mself\u001b[0m\u001b[1;33m.\u001b[0m\u001b[0msuffixes\u001b[0m\u001b[1;33m\u001b[0m\u001b[1;33m\u001b[0m\u001b[0m\n\u001b[0;32m    672\u001b[0m         )\n",
      "\u001b[1;32m~\\anaconda3\\envs\\learn-env\\lib\\site-packages\\pandas\\core\\reshape\\merge.py\u001b[0m in \u001b[0;36m_items_overlap_with_suffix\u001b[1;34m(left, right, suffixes)\u001b[0m\n\u001b[0;32m   2089\u001b[0m \u001b[1;33m\u001b[0m\u001b[0m\n\u001b[0;32m   2090\u001b[0m     \u001b[1;32mif\u001b[0m \u001b[1;32mnot\u001b[0m \u001b[0mlsuffix\u001b[0m \u001b[1;32mand\u001b[0m \u001b[1;32mnot\u001b[0m \u001b[0mrsuffix\u001b[0m\u001b[1;33m:\u001b[0m\u001b[1;33m\u001b[0m\u001b[1;33m\u001b[0m\u001b[0m\n\u001b[1;32m-> 2091\u001b[1;33m         \u001b[1;32mraise\u001b[0m \u001b[0mValueError\u001b[0m\u001b[1;33m(\u001b[0m\u001b[1;34mf\"columns overlap but no suffix specified: {to_rename}\"\u001b[0m\u001b[1;33m)\u001b[0m\u001b[1;33m\u001b[0m\u001b[1;33m\u001b[0m\u001b[0m\n\u001b[0m\u001b[0;32m   2092\u001b[0m \u001b[1;33m\u001b[0m\u001b[0m\n\u001b[0;32m   2093\u001b[0m     \u001b[1;32mdef\u001b[0m \u001b[0mrenamer\u001b[0m\u001b[1;33m(\u001b[0m\u001b[0mx\u001b[0m\u001b[1;33m,\u001b[0m \u001b[0msuffix\u001b[0m\u001b[1;33m)\u001b[0m\u001b[1;33m:\u001b[0m\u001b[1;33m\u001b[0m\u001b[1;33m\u001b[0m\u001b[0m\n",
      "\u001b[1;31mValueError\u001b[0m: columns overlap but no suffix specified: Index(['age'], dtype='object')"
     ]
    }
   ],
   "source": [
    "# We can't just join these as they are, since we haven't specified our suffixes\n",
    "toy1.join(toy2)\n"
   ]
  },
  {
   "cell_type": "code",
   "execution_count": null,
   "metadata": {
    "hidden": true
   },
   "outputs": [],
   "source": [
    "toy1.join(toy2, lsuffix='1', rsuffix='2')"
   ]
  },
  {
   "cell_type": "markdown",
   "metadata": {
    "hidden": true
   },
   "source": [
    "If we don't want to keep both, we could set the overlapping column as the index in each DataFrame:"
   ]
  },
  {
   "cell_type": "code",
   "execution_count": null,
   "metadata": {
    "hidden": true
   },
   "outputs": [],
   "source": [
    "toy1.set_index('age').join(toy2.set_index('age'))"
   ]
  },
  {
   "cell_type": "code",
   "execution_count": null,
   "metadata": {
    "hidden": true
   },
   "outputs": [],
   "source": [
    "toy1.drop('age', axis=1).join(toy2)"
   ]
  },
  {
   "cell_type": "markdown",
   "metadata": {
    "heading_collapsed": true,
    "hidden": true
   },
   "source": [
    "## `.merge()`"
   ]
  },
  {
   "cell_type": "markdown",
   "metadata": {
    "hidden": true
   },
   "source": [
    "Or we could use `.merge()`:"
   ]
  },
  {
   "cell_type": "code",
   "execution_count": null,
   "metadata": {
    "hidden": true
   },
   "outputs": [],
   "source": [
    "toy1"
   ]
  },
  {
   "cell_type": "code",
   "execution_count": null,
   "metadata": {},
   "outputs": [],
   "source": [
    "toy2"
   ]
  },
  {
   "cell_type": "code",
   "execution_count": null,
   "metadata": {},
   "outputs": [],
   "source": [
    "toy1.merge(toy2)"
   ]
  },
  {
   "cell_type": "code",
   "execution_count": null,
   "metadata": {},
   "outputs": [],
   "source": [
    "toy1.merge(toy2, on='age')"
   ]
  },
  {
   "cell_type": "code",
   "execution_count": null,
   "metadata": {
    "hidden": true
   },
   "outputs": [],
   "source": [
    "# Let's try with a SLIGHTLY bigger toy dataset\n",
    "ds_chars = pd.read_csv('data/ds_chars.csv', index_col=0)\n",
    "ds_chars"
   ]
  },
  {
   "cell_type": "code",
   "execution_count": null,
   "metadata": {
    "hidden": true
   },
   "outputs": [],
   "source": [
    "# And another to merge it with\n",
    "states = pd.read_csv('data/states.csv', index_col=0)\n",
    "states"
   ]
  },
  {
   "cell_type": "markdown",
   "metadata": {
    "heading_collapsed": true,
    "hidden": true
   },
   "source": [
    "## The `how` Parameter"
   ]
  },
  {
   "cell_type": "markdown",
   "metadata": {
    "hidden": true
   },
   "source": [
    "This parameter in both `.join()` and `.merge()` tells the compiler what sort of join to effect. We'll cover this in detail when we discuss SQL.\n",
    "\n",
    "![image showcasing how the how parameter in a join/merge would combine the two datasets, using venn-style diagrams](https://www.datasciencemadesimple.com/wp-content/uploads/2017/09/join-or-merge-in-python-pandas-1.png)\n",
    "[[Image Source]](https://www.datasciencemadesimple.com/join-merge-data-frames-pandas-python/)"
   ]
  },
  {
   "cell_type": "code",
   "execution_count": null,
   "metadata": {
    "hidden": true
   },
   "outputs": [],
   "source": [
    "# Merge ds_chars and states - first an inner join\n",
    "ds_chars.merge(states, \n",
    "               how='inner', \n",
    "               left_on='home_state', \n",
    "               right_on='state')"
   ]
  },
  {
   "cell_type": "code",
   "execution_count": null,
   "metadata": {
    "hidden": true
   },
   "outputs": [],
   "source": [
    "# Now an outer join\n",
    "ds_chars.merge(states, \n",
    "               how='outer', \n",
    "               left_on='home_state', \n",
    "               right_on='state')"
   ]
  },
  {
   "cell_type": "markdown",
   "metadata": {
    "heading_collapsed": true,
    "hidden": true
   },
   "source": [
    "## `pd.concat()`"
   ]
  },
  {
   "cell_type": "markdown",
   "metadata": {
    "hidden": true
   },
   "source": [
    "This method takes a *list* of pandas objects as arguments."
   ]
  },
  {
   "cell_type": "code",
   "execution_count": null,
   "metadata": {
    "hidden": true
   },
   "outputs": [],
   "source": [
    "# Another mini dataset to play with\n",
    "prefs = pd.read_csv('data/preferences.csv', index_col=0)\n",
    "prefs"
   ]
  },
  {
   "cell_type": "code",
   "execution_count": null,
   "metadata": {
    "hidden": true
   },
   "outputs": [],
   "source": [
    "# Concat prefs and ds_chars\n",
    "full_df = pd.concat([ds_chars,prefs])\n",
    "full_df"
   ]
  },
  {
   "cell_type": "markdown",
   "metadata": {
    "hidden": true
   },
   "source": [
    "`pd.concat()`–– and many other pandas operations –– make use of an `axis` parameter. For this particular method I need to specify whether I want to concatenate the DataFrames *row-wise* (`axis=0`) or *column-wise* (`axis=1`). The default is `axis=0`, so let's override that!"
   ]
  },
  {
   "cell_type": "code",
   "execution_count": null,
   "metadata": {
    "hidden": true
   },
   "outputs": [],
   "source": [
    "# Adjust and try again\n",
    "full_df = pd.concat([ds_chars,prefs],axis=1)\n",
    "full_df"
   ]
  },
  {
   "cell_type": "markdown",
   "metadata": {
    "heading_collapsed": true,
    "hidden": true
   },
   "source": [
    "## Back to the Center\n",
    "\n",
    "We have Intakes data and we have Outcomes data... time to merge!"
   ]
  },
  {
   "cell_type": "code",
   "execution_count": null,
   "metadata": {
    "hidden": true
   },
   "outputs": [],
   "source": [
    "# Peek at the outcomes data we already had in here\n",
    "outcomes.head(2)"
   ]
  },
  {
   "cell_type": "code",
   "execution_count": null,
   "metadata": {
    "hidden": true
   },
   "outputs": [],
   "source": [
    "# Read in the intakes data\n",
    "intake = pd.read_csv('./data/Austin_Animal_Center_Intakes_022822.csv',\n",
    "                    parse_dates = ['DateTime'])"
   ]
  },
  {
   "cell_type": "code",
   "execution_count": null,
   "metadata": {},
   "outputs": [],
   "source": [
    "# Check it out\n",
    "intake.head(2)"
   ]
  },
  {
   "cell_type": "code",
   "execution_count": null,
   "metadata": {
    "hidden": true
   },
   "outputs": [],
   "source": [
    "# Let's try merging on Animal ID\n",
    "combined = outcomes.merge(intake,\n",
    "                          on='Animal ID', \n",
    "                         how='inner',\n",
    "                         suffixes=['_intake','_outcome'])"
   ]
  },
  {
   "cell_type": "code",
   "execution_count": null,
   "metadata": {
    "hidden": true
   },
   "outputs": [],
   "source": [
    "# What was the result?\n",
    "combined.head()"
   ]
  },
  {
   "cell_type": "code",
   "execution_count": null,
   "metadata": {
    "hidden": true
   },
   "outputs": [],
   "source": [
    "combined.shape"
   ]
  },
  {
   "cell_type": "code",
   "execution_count": null,
   "metadata": {
    "hidden": true
   },
   "outputs": [],
   "source": [
    "intake.shape"
   ]
  },
  {
   "cell_type": "code",
   "execution_count": null,
   "metadata": {
    "hidden": true
   },
   "outputs": [],
   "source": [
    "outcomes.shape"
   ]
  },
  {
   "cell_type": "markdown",
   "metadata": {
    "hidden": true
   },
   "source": [
    "Let's discuss/explore: did that work the way we expected?\n",
    "\n",
    "- \n"
   ]
  },
  {
   "cell_type": "code",
   "execution_count": null,
   "metadata": {
    "hidden": true
   },
   "outputs": [],
   "source": [
    "# We might want to try something different\n",
    "# Can we clean something to make a better merge?\n",
    "combined.loc[combined.duplicated(subset=['Animal ID'], keep=False)]"
   ]
  },
  {
   "cell_type": "code",
   "execution_count": null,
   "metadata": {
    "hidden": true
   },
   "outputs": [],
   "source": [
    "# Clean what needs cleaning...\n",
    "clean_intakes = intake.drop_duplicates(subset=['Animal ID'])\n",
    "clean_outcomes = outcomes.drop_duplicates(subset=['Animal ID'])"
   ]
  },
  {
   "cell_type": "code",
   "execution_count": null,
   "metadata": {},
   "outputs": [],
   "source": [
    "clean_intakes.shape, intake.shape"
   ]
  },
  {
   "cell_type": "code",
   "execution_count": null,
   "metadata": {},
   "outputs": [],
   "source": [
    "clean_outcomes.shape, outcomes.shape"
   ]
  },
  {
   "cell_type": "code",
   "execution_count": null,
   "metadata": {
    "hidden": true
   },
   "outputs": [],
   "source": [
    "# Try again\n",
    "clean_combined = clean_outcomes.merge(clean_intakes, \n",
    "                                      on = 'Animal ID',\n",
    "                                     how = 'inner', \n",
    "                                     suffixes = ['_outcome','_intake'])"
   ]
  },
  {
   "cell_type": "code",
   "execution_count": null,
   "metadata": {},
   "outputs": [],
   "source": [
    "clean_combined.shape"
   ]
  },
  {
   "cell_type": "markdown",
   "metadata": {
    "heading_collapsed": true
   },
   "source": [
    "# Level Up: Quick Column Name Clean Up Code\n",
    "\n",
    "Throwing a quick use of a lambda function your way:"
   ]
  },
  {
   "cell_type": "code",
   "execution_count": null,
   "metadata": {
    "hidden": true
   },
   "outputs": [],
   "source": [
    "outcomes_renamed = outcomes.rename(columns = lambda x: x.replace(\" \", \"_\").lower())\n",
    "outcomes_renamed.head()"
   ]
  },
  {
   "cell_type": "code",
   "execution_count": null,
   "metadata": {},
   "outputs": [],
   "source": [
    "renamed = [col.strip().replace(' ','_').lower() for col in intake.columns]"
   ]
  },
  {
   "cell_type": "code",
   "execution_count": null,
   "metadata": {},
   "outputs": [],
   "source": [
    "renamed"
   ]
  },
  {
   "cell_type": "code",
   "execution_count": null,
   "metadata": {},
   "outputs": [],
   "source": [
    "intake.columns = renamed"
   ]
  },
  {
   "cell_type": "code",
   "execution_count": null,
   "metadata": {},
   "outputs": [],
   "source": [
    "intake.head()"
   ]
  },
  {
   "cell_type": "code",
   "execution_count": null,
   "metadata": {},
   "outputs": [],
   "source": [
    "outcomes_renamed = outcomes.copy()"
   ]
  },
  {
   "cell_type": "code",
   "execution_count": null,
   "metadata": {},
   "outputs": [],
   "source": [
    "outcomes_renamed.columns = [col.strip().replace(' ','_').lower() for col in outcomes.columns]"
   ]
  },
  {
   "cell_type": "code",
   "execution_count": null,
   "metadata": {},
   "outputs": [],
   "source": [
    "outcomes_renamed.columns"
   ]
  },
  {
   "cell_type": "markdown",
   "metadata": {
    "heading_collapsed": true
   },
   "source": [
    "# Level Up: `pandas.set_option()`"
   ]
  },
  {
   "cell_type": "markdown",
   "metadata": {
    "hidden": true
   },
   "source": [
    "We can adjust how `pandas` works by setting options in advance."
   ]
  },
  {
   "cell_type": "markdown",
   "metadata": {
    "hidden": true
   },
   "source": [
    "For complete documentation, see [here](https://pandas.pydata.org/pandas-docs/stable/user_guide/options.html)."
   ]
  },
  {
   "cell_type": "markdown",
   "metadata": {
    "heading_collapsed": true,
    "hidden": true
   },
   "source": [
    "## Block Scientific Notation"
   ]
  },
  {
   "cell_type": "markdown",
   "metadata": {
    "hidden": true
   },
   "source": [
    "For example, suppose we want to prevent numbers from being displayed in scientific notation."
   ]
  },
  {
   "cell_type": "code",
   "execution_count": null,
   "metadata": {
    "hidden": true
   },
   "outputs": [],
   "source": [
    "df = pd.DataFrame([[1e9, 2e9], [3e9, 4e9]])\n",
    "df"
   ]
  },
  {
   "cell_type": "markdown",
   "metadata": {
    "hidden": true
   },
   "source": [
    "Then we can use:"
   ]
  },
  {
   "cell_type": "code",
   "execution_count": null,
   "metadata": {
    "hidden": true
   },
   "outputs": [],
   "source": [
    "pd.set_option('display.float_format', '{:.2f}'.format)\n",
    "\n",
    "df"
   ]
  },
  {
   "cell_type": "markdown",
   "metadata": {
    "heading_collapsed": true,
    "hidden": true
   },
   "source": [
    "## See More Rows"
   ]
  },
  {
   "cell_type": "markdown",
   "metadata": {
    "hidden": true
   },
   "source": [
    "Or suppose we want `pandas` to show more rows."
   ]
  },
  {
   "cell_type": "code",
   "execution_count": null,
   "metadata": {
    "hidden": true
   },
   "outputs": [],
   "source": [
    "df2 = pd.DataFrame(np.array(range(100)))\n",
    "df2"
   ]
  },
  {
   "cell_type": "markdown",
   "metadata": {
    "hidden": true
   },
   "source": [
    "In that case we can use:"
   ]
  },
  {
   "cell_type": "code",
   "execution_count": null,
   "metadata": {
    "hidden": true
   },
   "outputs": [],
   "source": [
    "pd.set_option('display.max_rows', 100)\n",
    "\n",
    "df2"
   ]
  },
  {
   "cell_type": "code",
   "execution_count": null,
   "metadata": {},
   "outputs": [],
   "source": [
    "pd.set_option('display.max_rows', 100)\n",
    "combined"
   ]
  }
 ],
 "metadata": {
  "kernelspec": {
   "display_name": "Python (learn-env)",
   "language": "python",
   "name": "learn-env"
  },
  "language_info": {
   "codemirror_mode": {
    "name": "ipython",
    "version": 3
   },
   "file_extension": ".py",
   "mimetype": "text/x-python",
   "name": "python",
   "nbconvert_exporter": "python",
   "pygments_lexer": "ipython3",
   "version": "3.8.5"
  },
  "toc": {
   "base_numbering": 1,
   "nav_menu": {},
   "number_sections": true,
   "sideBar": true,
   "skip_h1_title": false,
   "title_cell": "Table of Contents",
   "title_sidebar": "TOC",
   "toc_cell": true,
   "toc_position": {
    "height": "calc(100% - 180px)",
    "left": "10px",
    "top": "150px",
    "width": "288px"
   },
   "toc_section_display": true,
   "toc_window_display": true
  },
  "varInspector": {
   "cols": {
    "lenName": 16,
    "lenType": 16,
    "lenVar": 40
   },
   "kernels_config": {
    "python": {
     "delete_cmd_postfix": "",
     "delete_cmd_prefix": "del ",
     "library": "var_list.py",
     "varRefreshCmd": "print(var_dic_list())"
    },
    "r": {
     "delete_cmd_postfix": ") ",
     "delete_cmd_prefix": "rm(",
     "library": "var_list.r",
     "varRefreshCmd": "cat(var_dic_list()) "
    }
   },
   "types_to_exclude": [
    "module",
    "function",
    "builtin_function_or_method",
    "instance",
    "_Feature"
   ],
   "window_display": true
  }
 },
 "nbformat": 4,
 "nbformat_minor": 2
}
