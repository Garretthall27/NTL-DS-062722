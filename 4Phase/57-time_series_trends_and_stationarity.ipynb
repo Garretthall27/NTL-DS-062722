{
 "cells": [
  {
   "cell_type": "markdown",
   "metadata": {
    "toc": true
   },
   "source": [
    "<h1>Table of Contents<span class=\"tocSkip\"></span></h1>\n",
    "<div class=\"toc\"><ul class=\"toc-item\"><li><span><a href=\"#Objectives\" data-toc-modified-id=\"Objectives-1\"><span class=\"toc-item-num\">1&nbsp;&nbsp;</span>Objectives</a></span></li><li><span><a href=\"#Loading-Some-Data\" data-toc-modified-id=\"Loading-Some-Data-2\"><span class=\"toc-item-num\">2&nbsp;&nbsp;</span>Loading Some Data</a></span></li><li><span><a href=\"#Components-of-Time-Series-Data\" data-toc-modified-id=\"Components-of-Time-Series-Data-3\"><span class=\"toc-item-num\">3&nbsp;&nbsp;</span>Components of Time Series Data</a></span><ul class=\"toc-item\"><li><span><a href=\"#Trend\" data-toc-modified-id=\"Trend-3.1\"><span class=\"toc-item-num\">3.1&nbsp;&nbsp;</span>Trend</a></span></li><li><span><a href=\"#Seasonal\" data-toc-modified-id=\"Seasonal-3.2\"><span class=\"toc-item-num\">3.2&nbsp;&nbsp;</span>Seasonal</a></span></li><li><span><a href=\"#Cyclical\" data-toc-modified-id=\"Cyclical-3.3\"><span class=\"toc-item-num\">3.3&nbsp;&nbsp;</span>Cyclical</a></span></li><li><span><a href=\"#Irregular\" data-toc-modified-id=\"Irregular-3.4\"><span class=\"toc-item-num\">3.4&nbsp;&nbsp;</span>Irregular</a></span></li></ul></li><li><span><a href=\"#Stationarity-and-Trends\" data-toc-modified-id=\"Stationarity-and-Trends-4\"><span class=\"toc-item-num\">4&nbsp;&nbsp;</span>Stationarity and Trends</a></span><ul class=\"toc-item\"><li><span><a href=\"#Criteria-for-a-Stationary-Time-Series\" data-toc-modified-id=\"Criteria-for-a-Stationary-Time-Series-4.1\"><span class=\"toc-item-num\">4.1&nbsp;&nbsp;</span>Criteria for a Stationary Time Series</a></span></li><li><span><a href=\"#Types-of-Trends\" data-toc-modified-id=\"Types-of-Trends-4.2\"><span class=\"toc-item-num\">4.2&nbsp;&nbsp;</span>Types of Trends</a></span><ul class=\"toc-item\"><li><span><a href=\"#No-Trend\" data-toc-modified-id=\"No-Trend-4.2.1\"><span class=\"toc-item-num\">4.2.1&nbsp;&nbsp;</span>No Trend</a></span></li><li><span><a href=\"#Linear-Trend\" data-toc-modified-id=\"Linear-Trend-4.2.2\"><span class=\"toc-item-num\">4.2.2&nbsp;&nbsp;</span>Linear Trend</a></span></li><li><span><a href=\"#Exponential\" data-toc-modified-id=\"Exponential-4.2.3\"><span class=\"toc-item-num\">4.2.3&nbsp;&nbsp;</span>Exponential</a></span></li><li><span><a href=\"#Periodic\" data-toc-modified-id=\"Periodic-4.2.4\"><span class=\"toc-item-num\">4.2.4&nbsp;&nbsp;</span>Periodic</a></span></li></ul></li><li><span><a href=\"#Example-Data:-Is-It-Stationary?\" data-toc-modified-id=\"Example-Data:-Is-It-Stationary?-4.3\"><span class=\"toc-item-num\">4.3&nbsp;&nbsp;</span>Example Data: Is It Stationary?</a></span><ul class=\"toc-item\"><li><span><a href=\"#Dickey-Fuller-Test\" data-toc-modified-id=\"Dickey-Fuller-Test-4.3.1\"><span class=\"toc-item-num\">4.3.1&nbsp;&nbsp;</span>Dickey-Fuller Test</a></span></li></ul></li></ul></li><li><span><a href=\"#Getting-a-Stationary-Time-Series\" data-toc-modified-id=\"Getting-a-Stationary-Time-Series-5\"><span class=\"toc-item-num\">5&nbsp;&nbsp;</span>Getting a Stationary Time Series</a></span><ul class=\"toc-item\"><li><span><a href=\"#Quick-Check:-Why-do-we-want-to-get-a-stationary-series?\" data-toc-modified-id=\"Quick-Check:-Why-do-we-want-to-get-a-stationary-series?-5.1\"><span class=\"toc-item-num\">5.1&nbsp;&nbsp;</span>Quick Check: Why do we want to get a stationary series?</a></span></li><li><span><a href=\"#Log-Transformation,-Square-Root-Transformation\" data-toc-modified-id=\"Log-Transformation,-Square-Root-Transformation-5.2\"><span class=\"toc-item-num\">5.2&nbsp;&nbsp;</span>Log Transformation, Square Root Transformation</a></span></li><li><span><a href=\"#Subtract-the-Rolling-Mean\" data-toc-modified-id=\"Subtract-the-Rolling-Mean-5.3\"><span class=\"toc-item-num\">5.3&nbsp;&nbsp;</span>Subtract the Rolling Mean</a></span><ul class=\"toc-item\"><li><span><a href=\"#Rolling-Statistics\" data-toc-modified-id=\"Rolling-Statistics-5.3.1\"><span class=\"toc-item-num\">5.3.1&nbsp;&nbsp;</span>Rolling Statistics</a></span><ul class=\"toc-item\"><li><span><a href=\"#Example\" data-toc-modified-id=\"Example-5.3.1.1\"><span class=\"toc-item-num\">5.3.1.1&nbsp;&nbsp;</span>Example</a></span></li></ul></li><li><span><a href=\"#Using-the-Rolling-Mean-to-Subtract-from-Time-Series\" data-toc-modified-id=\"Using-the-Rolling-Mean-to-Subtract-from-Time-Series-5.3.2\"><span class=\"toc-item-num\">5.3.2&nbsp;&nbsp;</span>Using the Rolling Mean to Subtract from Time Series</a></span><ul class=\"toc-item\"><li><span><a href=\"#Checking-If-Stationary\" data-toc-modified-id=\"Checking-If-Stationary-5.3.2.1\"><span class=\"toc-item-num\">5.3.2.1&nbsp;&nbsp;</span>Checking If Stationary</a></span></li></ul></li></ul></li><li><span><a href=\"#Differencing\" data-toc-modified-id=\"Differencing-5.4\"><span class=\"toc-item-num\">5.4&nbsp;&nbsp;</span>Differencing</a></span><ul class=\"toc-item\"><li><span><a href=\"#Sidenote:-pd.Series.diff()-vs.-np.diff()\" data-toc-modified-id=\"Sidenote:-pd.Series.diff()-vs.-np.diff()-5.4.1\"><span class=\"toc-item-num\">5.4.1&nbsp;&nbsp;</span>Sidenote: <code>pd.Series.diff()</code> vs. <code>np.diff()</code></a></span></li><li><span><a href=\"#Weighted-Rolling-Mean-(Weighted-Moving-Average)\" data-toc-modified-id=\"Weighted-Rolling-Mean-(Weighted-Moving-Average)-5.4.2\"><span class=\"toc-item-num\">5.4.2&nbsp;&nbsp;</span>Weighted Rolling Mean (Weighted Moving Average)</a></span></li></ul></li><li><span><a href=\"#Time-Series-Decomposition\" data-toc-modified-id=\"Time-Series-Decomposition-5.5\"><span class=\"toc-item-num\">5.5&nbsp;&nbsp;</span>Time Series Decomposition</a></span><ul class=\"toc-item\"><li><span><a href=\"#Back-to-Our-Example\" data-toc-modified-id=\"Back-to-Our-Example-5.5.1\"><span class=\"toc-item-num\">5.5.1&nbsp;&nbsp;</span>Back to Our Example</a></span></li></ul></li></ul></li></ul></div>"
   ]
  },
  {
   "cell_type": "code",
   "execution_count": 1,
   "metadata": {},
   "outputs": [],
   "source": [
    "import pandas as pd\n",
    "import numpy as np\n",
    "import matplotlib.pyplot as plt\n",
    "\n",
    "from statsmodels.tsa.stattools import adfuller"
   ]
  },
  {
   "cell_type": "markdown",
   "metadata": {
    "heading_collapsed": true
   },
   "source": [
    "# Objectives"
   ]
  },
  {
   "cell_type": "markdown",
   "metadata": {
    "hidden": true
   },
   "source": [
    "- Identify different trends of a time series data\n",
    "- Identify when a time series is stationary\n",
    "- Transform a time series to a stationary one"
   ]
  },
  {
   "cell_type": "markdown",
   "metadata": {
    "heading_collapsed": true
   },
   "source": [
    "# Loading Some Data"
   ]
  },
  {
   "cell_type": "markdown",
   "metadata": {
    "hidden": true
   },
   "source": [
    "Let's put in some data to make working with some later examples easier:"
   ]
  },
  {
   "cell_type": "code",
   "execution_count": 2,
   "metadata": {
    "hidden": true
   },
   "outputs": [],
   "source": [
    "# New York Stock Exchange average monthly returns [1961-1966]\n",
    "nyse = pd.read_csv('data/NYSE_monthly.csv')\n",
    "col_name= 'Month'\n",
    "nyse[col_name] = pd.to_datetime(nyse[col_name])\n",
    "nyse.set_index(col_name, inplace=True)"
   ]
  },
  {
   "cell_type": "code",
   "execution_count": 3,
   "metadata": {
    "hidden": true
   },
   "outputs": [],
   "source": [
    "# Example generated data \n",
    "years = pd.date_range('2012-01', periods=72, freq=\"M\")\n",
    "index = pd.DatetimeIndex(years)\n",
    "\n",
    "np.random.seed(3456)\n",
    "sales = np.random.randint(low=-4, high=4, size=72)\n",
    "bigger = np.array([0, 0, 0, 0, 0, 0, 0, 0, 0, 1, 1, 1, 1, 1, 1, 1, 1, 1, 1, 1, 3, 3, 3, 3,\n",
    "                   3, 3, 3, 3, 3, 3, 3, 3, 7, 7, 7, 7, 7, 7, 7, 7, 7, 7, 7,\n",
    "                   11, 11, 11, 11, 11, 11, 11, 11, 11, 11, 18, 18, 18,\n",
    "                   18, 18, 18, 18, 18, 18, 26, 26, 26, 26, 26, 36, 36, 36, 36, 36])\n",
    "\n",
    "ts = pd.Series(sales+bigger+6, index=index)"
   ]
  },
  {
   "cell_type": "markdown",
   "metadata": {
    "heading_collapsed": true
   },
   "source": [
    "# Components of Time Series Data"
   ]
  },
  {
   "cell_type": "markdown",
   "metadata": {
    "hidden": true
   },
   "source": [
    "A time series in general is supposed to be affected by four main components, which can be separated from the observed data. These components are: *Trend, Cyclical, Seasonal and Irregular* components."
   ]
  },
  {
   "cell_type": "markdown",
   "metadata": {
    "heading_collapsed": true,
    "hidden": true
   },
   "source": [
    "## Trend "
   ]
  },
  {
   "cell_type": "markdown",
   "metadata": {
    "hidden": true
   },
   "source": [
    "> The long term movement of a time series. "
   ]
  },
  {
   "cell_type": "markdown",
   "metadata": {
    "hidden": true
   },
   "source": [
    "For example, series relating to population growth, number of houses in a city etc. show upward trend."
   ]
  },
  {
   "cell_type": "markdown",
   "metadata": {
    "heading_collapsed": true,
    "hidden": true
   },
   "source": [
    "## Seasonal"
   ]
  },
  {
   "cell_type": "markdown",
   "metadata": {
    "hidden": true
   },
   "source": [
    "> Fluctuation in the data set that follow a regular pattern due to outside influences"
   ]
  },
  {
   "cell_type": "markdown",
   "metadata": {
    "hidden": true
   },
   "source": [
    "For example sales of ice-cream increase in summer, or daily web traffic."
   ]
  },
  {
   "cell_type": "markdown",
   "metadata": {
    "heading_collapsed": true,
    "hidden": true
   },
   "source": [
    "## Cyclical"
   ]
  },
  {
   "cell_type": "markdown",
   "metadata": {
    "hidden": true
   },
   "source": [
    "> When data exhibit rises and falls that are not of fixed period"
   ]
  },
  {
   "cell_type": "markdown",
   "metadata": {
    "hidden": true
   },
   "source": [
    "Think of business cycles which usually last several years, but where the length of the current cycle is unknown beforehand."
   ]
  },
  {
   "cell_type": "markdown",
   "metadata": {
    "hidden": true
   },
   "source": [
    "> **NOTE:** Many people confuse cyclic behavior with seasonal behavior, but they are really quite different. If the fluctuations are not of fixed period then they are cyclic; if the period is unchanging and associated with some aspect of the calendar, then the pattern is seasonal."
   ]
  },
  {
   "cell_type": "markdown",
   "metadata": {
    "heading_collapsed": true,
    "hidden": true
   },
   "source": [
    "## Irregular"
   ]
  },
  {
   "cell_type": "markdown",
   "metadata": {
    "hidden": true
   },
   "source": [
    "> Caused by unpredictable influences, which are not regular and also do not repeat in a particular pattern. "
   ]
  },
  {
   "cell_type": "markdown",
   "metadata": {
    "hidden": true
   },
   "source": [
    "These variations are caused by incidences that come at random intervals. There is no defined statistical technique for measuring random fluctuations in a time series."
   ]
  },
  {
   "cell_type": "markdown",
   "metadata": {
    "heading_collapsed": true
   },
   "source": [
    "# Stationarity and Trends"
   ]
  },
  {
   "cell_type": "markdown",
   "metadata": {
    "hidden": true
   },
   "source": [
    "When building our models, we will want to account for these patterns somehow.  Time series whose mean and variance have trends across time will be difficult to predict out into the future. "
   ]
  },
  {
   "cell_type": "markdown",
   "metadata": {
    "hidden": true
   },
   "source": [
    "> A **stationary time series** is one whose statistical properties such as mean, variance, autocorrelation, etc. are all constant over time. "
   ]
  },
  {
   "cell_type": "markdown",
   "metadata": {
    "hidden": true
   },
   "source": [
    "Most statistical forecasting methods are based on the assumption that the time series can be rendered approximately stationary (i.e., \"stationarized\") through the use of mathematical transformations. A stationarized series is relatively easy to predict: you simply predict that its statistical properties will be the same in the future as they have been in the past!"
   ]
  },
  {
   "cell_type": "markdown",
   "metadata": {
    "hidden": true
   },
   "source": [
    "It may seem counterintuitive that, for modeling purposes, we want our time series not to be a function of time! But the basic idea is the familiar one that we want our datapoints to be mutually *independent*. For more on this topic, see [here](https://stats.stackexchange.com/questions/19715/why-does-a-time-series-have-to-be-stationary)."
   ]
  },
  {
   "cell_type": "markdown",
   "metadata": {
    "heading_collapsed": true,
    "hidden": true
   },
   "source": [
    "## Criteria for a Stationary Time Series"
   ]
  },
  {
   "cell_type": "markdown",
   "metadata": {
    "hidden": true
   },
   "source": [
    "- The series' **mean** is **not** a function of time\n",
    "![https://www.analyticsvidhya.com/wp-content/uploads/2015/02/Mean_nonstationary.png](images/Mean_nonstationary.png)"
   ]
  },
  {
   "cell_type": "markdown",
   "metadata": {
    "hidden": true
   },
   "source": [
    "- The series' **variance** is **not** a function of time (heteroscedacity)\n",
    "![https://www.analyticsvidhya.com/wp-content/uploads/2015/02/Var_nonstationary.png](images/Var_nonstationary.png)"
   ]
  },
  {
   "cell_type": "markdown",
   "metadata": {
    "hidden": true
   },
   "source": [
    "- The series' **covariance** is **not** a function of time\n",
    "![https://www.analyticsvidhya.com/wp-content/uploads/2015/02/Cov_nonstationary.png](images/Cov_nonstationary.png)"
   ]
  },
  {
   "cell_type": "markdown",
   "metadata": {
    "hidden": true
   },
   "source": [
    "> Images from [https://www.analyticsvidhya.com/blog/2015/12/complete-tutorial-time-series-modeling/](https://www.analyticsvidhya.com/blog/2015/12/complete-tutorial-time-series-modeling/)"
   ]
  },
  {
   "cell_type": "markdown",
   "metadata": {
    "heading_collapsed": true,
    "hidden": true
   },
   "source": [
    "## Types of Trends"
   ]
  },
  {
   "cell_type": "markdown",
   "metadata": {
    "heading_collapsed": true,
    "hidden": true
   },
   "source": [
    "### No Trend"
   ]
  },
  {
   "cell_type": "code",
   "execution_count": 4,
   "metadata": {
    "hidden": true
   },
   "outputs": [
    {
     "data": {
      "image/png": "[encoded data removed]",
      "text/plain": [
       "<Figure size 864x432 with 1 Axes>"
      ]
     },
     "metadata": {
      "needs_background": "light"
     },
     "output_type": "display_data"
    }
   ],
   "source": [
    "data = nyse\n",
    "data.plot(figsize=(12, 6), linewidth=2, fontsize=14)\n",
    "plt.xlabel(col_name, fontsize=20)\n",
    "plt.ylabel(\"Monthly NYSE returns\", fontsize=20)\n",
    "plt.ylim((-0.15, 0.15));"
   ]
  },
  {
   "cell_type": "markdown",
   "metadata": {
    "heading_collapsed": true,
    "hidden": true
   },
   "source": [
    "### Linear Trend"
   ]
  },
  {
   "cell_type": "markdown",
   "metadata": {
    "hidden": true
   },
   "source": [
    "Upward or downward"
   ]
  },
  {
   "cell_type": "markdown",
   "metadata": {
    "hidden": true
   },
   "source": [
    "![](images/linear_trend-upward.png)"
   ]
  },
  {
   "cell_type": "markdown",
   "metadata": {
    "hidden": true
   },
   "source": [
    "![](images/linear_trend-downward.png)"
   ]
  },
  {
   "cell_type": "markdown",
   "metadata": {
    "heading_collapsed": true,
    "hidden": true
   },
   "source": [
    "### Exponential"
   ]
  },
  {
   "cell_type": "markdown",
   "metadata": {
    "hidden": true
   },
   "source": [
    "![](images/exponential_trend.png)"
   ]
  },
  {
   "cell_type": "markdown",
   "metadata": {
    "heading_collapsed": true,
    "hidden": true
   },
   "source": [
    "### Periodic"
   ]
  },
  {
   "cell_type": "markdown",
   "metadata": {
    "hidden": true
   },
   "source": [
    "![](images/periodic_trend-temperature.png)"
   ]
  },
  {
   "cell_type": "markdown",
   "metadata": {
    "hidden": true
   },
   "source": [
    "![](images/periodic_trend-miles.png)"
   ]
  },
  {
   "cell_type": "markdown",
   "metadata": {
    "heading_collapsed": true,
    "hidden": true
   },
   "source": [
    "## Example Data: Is It Stationary?"
   ]
  },
  {
   "cell_type": "markdown",
   "metadata": {
    "hidden": true
   },
   "source": [
    "Let's see if this example time series data is stationary."
   ]
  },
  {
   "cell_type": "code",
   "execution_count": 5,
   "metadata": {
    "hidden": true
   },
   "outputs": [
    {
     "data": {
      "image/png": "[encoded data removed]",
      "text/plain": [
       "<Figure size 864x432 with 1 Axes>"
      ]
     },
     "metadata": {
      "needs_background": "light"
     },
     "output_type": "display_data"
    }
   ],
   "source": [
    "fig = plt.figure(figsize=(12, 6))\n",
    "plt.plot(ts)\n",
    "plt.xlabel(\"month\", fontsize=16)\n",
    "plt.ylabel(\"monthly sales\", fontsize=16)\n",
    "plt.show()"
   ]
  },
  {
   "cell_type": "markdown",
   "metadata": {
    "hidden": true
   },
   "source": [
    "> Can you tell if it is just by looking?"
   ]
  },
  {
   "cell_type": "markdown",
   "metadata": {
    "heading_collapsed": true,
    "hidden": true
   },
   "source": [
    "### Dickey-Fuller Test"
   ]
  },
  {
   "cell_type": "markdown",
   "metadata": {
    "hidden": true
   },
   "source": [
    "One way of testing for stationarity is to use the Dickey-Fuller Test. The statsmodels version returns the test statistic and a p-value, relative to the null hypothesis that the series in question is NOT stationary. For more, see [this Wikipedia page](https://en.wikipedia.org/wiki/Augmented_Dickey%E2%80%93Fuller_test)."
   ]
  },
  {
   "cell_type": "markdown",
   "metadata": {
    "hidden": true
   },
   "source": [
    "Statistical test for testing stationarity; $H_0$ is that time series is **not** stationary. Checkout `statmodels` [documentation for this test](http://www.statsmodels.org/dev/generated/statsmodels.tsa.stattools.adfuller.html)."
   ]
  },
  {
   "cell_type": "code",
   "execution_count": 6,
   "metadata": {
    "hidden": true
   },
   "outputs": [],
   "source": [
    "def display_df(dftest):\n",
    "    '''\n",
    "    Display the output from a Dickey-Fuller test in a more readable format\n",
    "    '''\n",
    "    \n",
    "    \n",
    "    dfoutput = pd.Series(\n",
    "                dftest[0:4], \n",
    "                index=['Test Statistic','p-value','#Lags Used','Number of Observations Used'])\n",
    "\n",
    "    for key,value in dftest[4].items():\n",
    "        dfoutput['Critical Value (%s)'%key] = value\n",
    "\n",
    "    display(dfoutput)"
   ]
  },
  {
   "cell_type": "code",
   "execution_count": 8,
   "metadata": {
    "hidden": true
   },
   "outputs": [],
   "source": [
    "# Dickey-Fuller!\n",
    "dftest = adfuller(ts)"
   ]
  },
  {
   "cell_type": "code",
   "execution_count": 11,
   "metadata": {},
   "outputs": [
    {
     "data": {
      "text/plain": [
       "Test Statistic                  3.761376\n",
       "p-value                         1.000000\n",
       "#Lags Used                      8.000000\n",
       "Number of Observations Used    63.000000\n",
       "Critical Value (1%)            -3.538695\n",
       "Critical Value (5%)            -2.908645\n",
       "Critical Value (10%)           -2.591897\n",
       "dtype: float64"
      ]
     },
     "metadata": {},
     "output_type": "display_data"
    }
   ],
   "source": [
    "display_df(dftest)"
   ]
  },
  {
   "cell_type": "markdown",
   "metadata": {
    "heading_collapsed": true
   },
   "source": [
    "# Getting a Stationary Time Series "
   ]
  },
  {
   "cell_type": "markdown",
   "metadata": {
    "hidden": true
   },
   "source": [
    "Let's try out seeing how we can get a time series that is non-stationary to something we can make predictions on."
   ]
  },
  {
   "cell_type": "code",
   "execution_count": 12,
   "metadata": {
    "hidden": true
   },
   "outputs": [
    {
     "data": {
      "image/png": "[encoded data removed]",
      "text/plain": [
       "<Figure size 864x432 with 1 Axes>"
      ]
     },
     "metadata": {
      "needs_background": "light"
     },
     "output_type": "display_data"
    }
   ],
   "source": [
    "# Let's see how it looks\n",
    "fig = plt.figure(figsize=(12, 6))\n",
    "plt.plot(ts)\n",
    "plt.xlabel(\"month\", fontsize=16)\n",
    "plt.ylabel(\"monthly sales\", fontsize=16)\n",
    "plt.show()"
   ]
  },
  {
   "cell_type": "markdown",
   "metadata": {
    "hidden": true
   },
   "source": [
    "Goal is to make the time series stationary to use most modeling techniques\n",
    "\n",
    "Most common reasons for non-stationary series are **seasonality** and **trends**"
   ]
  },
  {
   "cell_type": "markdown",
   "metadata": {
    "heading_collapsed": true,
    "hidden": true
   },
   "source": [
    "## Quick Check: Why do we want to get a stationary series?"
   ]
  },
  {
   "cell_type": "markdown",
   "metadata": {
    "hidden": true
   },
   "source": [
    "- We in a way want to get rid of the temporal dependence: leave just the \"noise\"\n",
    "- That \"noise\" can then be modeled based on other features!\n",
    "- Think of \"stationary\" like \"independence\""
   ]
  },
  {
   "cell_type": "markdown",
   "metadata": {
    "heading_collapsed": true,
    "hidden": true
   },
   "source": [
    "## Log Transformation, Square Root Transformation"
   ]
  },
  {
   "cell_type": "markdown",
   "metadata": {
    "hidden": true
   },
   "source": [
    "Penalize higher values more (similar alternatives: square & cube roots)\n",
    "\n",
    "- Clear & significant positive trend but maybe not linear\n",
    "- Certain heteroscedasticity"
   ]
  },
  {
   "cell_type": "code",
   "execution_count": 13,
   "metadata": {
    "hidden": true
   },
   "outputs": [
    {
     "data": {
      "image/png": "[encoded data removed]",
      "text/plain": [
       "<Figure size 864x720 with 3 Axes>"
      ]
     },
     "metadata": {
      "needs_background": "light"
     },
     "output_type": "display_data"
    }
   ],
   "source": [
    "fig = plt.figure(figsize=(12, 10))\n",
    "\n",
    "\n",
    "# No transformation\n",
    "plt.subplot(3, 1, 1)\n",
    "plt.plot(ts)\n",
    "plt.xlabel(\"month\", fontsize=16)\n",
    "plt.ylabel(\"monthly sales\", fontsize=16)\n",
    "\n",
    "# Log transformation (linear and heteroscedastic)\n",
    "plt.subplot(3, 1, 2)\n",
    "plt.plot(pd.Series(np.log(ts), index=index), color=\"blue\")\n",
    "plt.xlabel(\"month\", fontsize=14)\n",
    "plt.ylabel(\"log(monthly sales)\", fontsize=14)\n",
    "\n",
    "# Square root transformation \n",
    "plt.subplot(3, 1, 3)\n",
    "plt.plot(pd.Series(np.sqrt(ts), index=index), color=\"green\")\n",
    "plt.xlabel(\"month\", fontsize=14)\n",
    "plt.ylabel(\"sqrt(monthly sales)\", fontsize=14)\n",
    "\n",
    "\n",
    "plt.show()"
   ]
  },
  {
   "cell_type": "code",
   "execution_count": 22,
   "metadata": {},
   "outputs": [],
   "source": [
    "dtest = adfuller(pd.Series(np.log(ts)))"
   ]
  },
  {
   "cell_type": "code",
   "execution_count": 23,
   "metadata": {},
   "outputs": [
    {
     "data": {
      "text/plain": [
       "Test Statistic                  0.468372\n",
       "p-value                         0.983879\n",
       "#Lags Used                     12.000000\n",
       "Number of Observations Used    59.000000\n",
       "Critical Value (1%)            -3.546395\n",
       "Critical Value (5%)            -2.911939\n",
       "Critical Value (10%)           -2.593652\n",
       "dtype: float64"
      ]
     },
     "metadata": {},
     "output_type": "display_data"
    }
   ],
   "source": [
    "display_df(dtest)"
   ]
  },
  {
   "cell_type": "code",
   "execution_count": 24,
   "metadata": {},
   "outputs": [],
   "source": [
    "dtest = adfuller(pd.Series(np.sqrt(ts)))"
   ]
  },
  {
   "cell_type": "code",
   "execution_count": 25,
   "metadata": {},
   "outputs": [
    {
     "data": {
      "text/plain": [
       "Test Statistic                  2.441740\n",
       "p-value                         0.999029\n",
       "#Lags Used                      8.000000\n",
       "Number of Observations Used    63.000000\n",
       "Critical Value (1%)            -3.538695\n",
       "Critical Value (5%)            -2.908645\n",
       "Critical Value (10%)           -2.591897\n",
       "dtype: float64"
      ]
     },
     "metadata": {},
     "output_type": "display_data"
    }
   ],
   "source": [
    "display_df(dtest)"
   ]
  },
  {
   "cell_type": "markdown",
   "metadata": {
    "hidden": true
   },
   "source": [
    "Goal is to make this more linear; you can tell it's still not stationary"
   ]
  },
  {
   "cell_type": "markdown",
   "metadata": {
    "heading_collapsed": true,
    "hidden": true
   },
   "source": [
    "## Subtract the Rolling Mean"
   ]
  },
  {
   "cell_type": "markdown",
   "metadata": {
    "hidden": true
   },
   "source": [
    "This can allow us to look at fluctuations from the overall \"smoother\" trend."
   ]
  },
  {
   "cell_type": "markdown",
   "metadata": {
    "heading_collapsed": true,
    "hidden": true
   },
   "source": [
    "### Rolling Statistics"
   ]
  },
  {
   "cell_type": "markdown",
   "metadata": {
    "hidden": true
   },
   "source": [
    "Take the average of a **window** of past data points (over a time period)."
   ]
  },
  {
   "cell_type": "markdown",
   "metadata": {
    "heading_collapsed": true,
    "hidden": true
   },
   "source": [
    "#### Example"
   ]
  },
  {
   "cell_type": "code",
   "execution_count": 26,
   "metadata": {},
   "outputs": [],
   "source": [
    "data_transform = pd.Series(np.sqrt(ts))"
   ]
  },
  {
   "cell_type": "code",
   "execution_count": 35,
   "metadata": {
    "hidden": true
   },
   "outputs": [],
   "source": [
    "# Rolling mean and std\n",
    "rolmean = data_transform.rolling(window=4).mean()\n",
    "rolstd = data_transform.rolling(window=4).std()"
   ]
  },
  {
   "cell_type": "code",
   "execution_count": 36,
   "metadata": {},
   "outputs": [
    {
     "data": {
      "text/plain": [
       "2012-01-31         NaN\n",
       "2012-02-29         NaN\n",
       "2012-03-31         NaN\n",
       "2012-04-30    2.171389\n",
       "2012-05-31    1.965926\n",
       "                ...   \n",
       "2017-08-31    5.913357\n",
       "2017-09-30    6.035118\n",
       "2017-10-31    6.162008\n",
       "2017-11-30    6.341300\n",
       "2017-12-31    6.477248\n",
       "Freq: M, Length: 72, dtype: float64"
      ]
     },
     "execution_count": 36,
     "metadata": {},
     "output_type": "execute_result"
    }
   ],
   "source": [
    "rolmean"
   ]
  },
  {
   "cell_type": "code",
   "execution_count": 37,
   "metadata": {
    "hidden": true,
    "scrolled": false
   },
   "outputs": [
    {
     "data": {
      "image/png": "[encoded data removed]",
      "text/plain": [
       "<Figure size 864x504 with 1 Axes>"
      ]
     },
     "metadata": {
      "needs_background": "light"
     },
     "output_type": "display_data"
    }
   ],
   "source": [
    "fig = plt.figure(figsize=(12, 7))\n",
    "orig = plt.plot(ts, color='blue', label='Original')\n",
    "mean = plt.plot(rolmean, color='red', label='Rolling Mean')\n",
    "std = plt.plot(rolstd, color='black', label='Rolling Std')\n",
    "plt.legend(loc='best')\n",
    "plt.title('Rolling Mean & Standard Deviation')\n",
    "plt.show(block=False)"
   ]
  },
  {
   "cell_type": "markdown",
   "metadata": {
    "heading_collapsed": true,
    "hidden": true
   },
   "source": [
    "### Using the Rolling Mean to Subtract from Time Series"
   ]
  },
  {
   "cell_type": "code",
   "execution_count": null,
   "metadata": {
    "hidden": true
   },
   "outputs": [],
   "source": [
    "# Start with the square root transform"
   ]
  },
  {
   "cell_type": "code",
   "execution_count": null,
   "metadata": {
    "hidden": true
   },
   "outputs": [],
   "source": [
    "# Rolling mean with a window of 4"
   ]
  },
  {
   "cell_type": "code",
   "execution_count": null,
   "metadata": {
    "hidden": true
   },
   "outputs": [],
   "source": [
    "fig = plt.figure(figsize=(11, 7))\n",
    "orig = plt.plot(data_transform, color='blue', label='Original')\n",
    "mean = plt.plot(rolmean, color='red', label='Rolling Mean')\n",
    "plt.legend(loc='best')\n",
    "plt.title('Rolling Mean & Standard Deviation')\n",
    "plt.show(block=False)"
   ]
  },
  {
   "cell_type": "code",
   "execution_count": null,
   "metadata": {
    "hidden": true
   },
   "outputs": [],
   "source": [
    "# Subtract the moving average from the original data and check head for Nans"
   ]
  },
  {
   "cell_type": "code",
   "execution_count": null,
   "metadata": {
    "hidden": true
   },
   "outputs": [],
   "source": [
    "# Drop the NaN values from timeseries calculated above \n",
    "# (the first few values didn't have a rolling mean)"
   ]
  },
  {
   "cell_type": "code",
   "execution_count": null,
   "metadata": {
    "hidden": true,
    "scrolled": true
   },
   "outputs": [],
   "source": [
    "fig = plt.figure(figsize=(11, 7))\n",
    "plt.plot(data_minus_rolmean, label='Sales - rolling mean')\n",
    "plt.legend(loc='best')\n",
    "plt.title('Sales while the rolling mean is subtracted')\n",
    "plt.show(block=False)"
   ]
  },
  {
   "cell_type": "markdown",
   "metadata": {
    "heading_collapsed": true,
    "hidden": true
   },
   "source": [
    "#### Checking If Stationary"
   ]
  },
  {
   "cell_type": "code",
   "execution_count": null,
   "metadata": {
    "hidden": true
   },
   "outputs": [],
   "source": [
    "# Dickey-Fuller!"
   ]
  },
  {
   "cell_type": "markdown",
   "metadata": {
    "heading_collapsed": true,
    "hidden": true
   },
   "source": [
    "## Differencing"
   ]
  },
  {
   "cell_type": "markdown",
   "metadata": {
    "hidden": true
   },
   "source": [
    "One of the most common ways of trying to convert a non-stationary series into a stationary one is to take as a new series *the differences in consecutive terms*. This is easily effected by means of the `.diff()` method of NumPy arrays."
   ]
  },
  {
   "cell_type": "code",
   "execution_count": null,
   "metadata": {
    "hidden": true
   },
   "outputs": [],
   "source": [
    "# PD Series .diff()"
   ]
  },
  {
   "cell_type": "markdown",
   "metadata": {
    "heading_collapsed": true,
    "hidden": true
   },
   "source": [
    "### Sidenote: `pd.Series.diff()` vs. `np.diff()`"
   ]
  },
  {
   "cell_type": "markdown",
   "metadata": {
    "hidden": true
   },
   "source": [
    "Be careful! These two are *not* the same. The [`pd.Series.diff()`](https://www.geeksforgeeks.org/python-pandas-series-diff/) takes as a parameter the number of periods (i.e. the width of the gap) to use in constructing the differences. [`np.diff()`](https://www.geeksforgeeks.org/numpy-diff-in-python/) takes as a parameter the *order* of the differences."
   ]
  },
  {
   "cell_type": "code",
   "execution_count": null,
   "metadata": {
    "hidden": true
   },
   "outputs": [],
   "source": [
    "arr = pd.Series(np.arange(10)**2)\n",
    "print(arr.values)\n",
    "print(arr.diff(2).values)\n",
    "print(np.diff(arr, 2))"
   ]
  },
  {
   "cell_type": "markdown",
   "metadata": {
    "hidden": true
   },
   "source": [
    "End of sidenote."
   ]
  },
  {
   "cell_type": "code",
   "execution_count": null,
   "metadata": {
    "hidden": true
   },
   "outputs": [],
   "source": [
    "# Dickey-Fuller. Again."
   ]
  },
  {
   "cell_type": "markdown",
   "metadata": {
    "heading_collapsed": true,
    "hidden": true
   },
   "source": [
    "### Weighted Rolling Mean (Weighted Moving Average)"
   ]
  },
  {
   "cell_type": "markdown",
   "metadata": {
    "hidden": true
   },
   "source": [
    "We can have the window to be adjusted for more complex situations (stock prices)\n",
    "\n",
    "Popular one: **Exponentially Weighted Moving Average**\n",
    "> weights are given using an exponential decay factor\n",
    "> \n",
    "> `DataFrame.ewm()` (https://pandas.pydata.org/pandas-docs/stable/generated/pandas.DataFrame.ewm.html)"
   ]
  },
  {
   "cell_type": "markdown",
   "metadata": {
    "heading_collapsed": true,
    "hidden": true
   },
   "source": [
    "## Time Series Decomposition"
   ]
  },
  {
   "cell_type": "markdown",
   "metadata": {
    "hidden": true
   },
   "source": [
    "Another method is where we transform a series into multiple series called **decomposition**.\n",
    "\n",
    "Commonly:\n",
    "- Seasonal\n",
    "- Trend\n",
    "- Noise/Random/Irregular/Remainder"
   ]
  },
  {
   "cell_type": "markdown",
   "metadata": {
    "heading_collapsed": true,
    "hidden": true
   },
   "source": [
    "### Back to Our Example"
   ]
  },
  {
   "cell_type": "code",
   "execution_count": null,
   "metadata": {
    "hidden": true
   },
   "outputs": [],
   "source": [
    "# Recall our time series\n",
    "ts.plot(figsize=(10, 4));"
   ]
  },
  {
   "cell_type": "code",
   "execution_count": null,
   "metadata": {
    "hidden": true
   },
   "outputs": [],
   "source": [
    "# log transform to get rid of that heteroscedasticity\n",
    "ts_log = np.log(ts)\n",
    "ts_log.plot(figsize=(10, 4));"
   ]
  },
  {
   "cell_type": "code",
   "execution_count": null,
   "metadata": {
    "hidden": true
   },
   "outputs": [],
   "source": [
    "# import seasonal_decompose"
   ]
  },
  {
   "cell_type": "code",
   "execution_count": null,
   "metadata": {
    "hidden": true
   },
   "outputs": [],
   "source": [
    "# Decompose it!"
   ]
  },
  {
   "cell_type": "code",
   "execution_count": null,
   "metadata": {
    "hidden": true
   },
   "outputs": [],
   "source": [
    "# Gather the trend, seasonality and noise of decomposed object"
   ]
  },
  {
   "cell_type": "code",
   "execution_count": null,
   "metadata": {
    "hidden": true
   },
   "outputs": [],
   "source": [
    "# Plot gathered statistics\n",
    "plt.figure(figsize=(12, 8))\n",
    "plt.subplot(411)\n",
    "plt.plot(np.log(ts), label='Original')\n",
    "plt.legend(loc='upper left')\n",
    "plt.subplot(412)\n",
    "plt.plot(trend, label='Trend')\n",
    "plt.legend(loc='upper left')\n",
    "plt.subplot(413)\n",
    "plt.plot(seasonal,label='Seasonality')\n",
    "plt.legend(loc='upper left')\n",
    "plt.subplot(414)\n",
    "plt.plot(residual, label='Residuals')\n",
    "plt.legend(loc='upper left')\n",
    "plt.tight_layout()"
   ]
  },
  {
   "cell_type": "markdown",
   "metadata": {
    "hidden": true
   },
   "source": [
    "Residuals look stationary now; can check with trend assessment like with a Dickey-Fuller test"
   ]
  },
  {
   "cell_type": "code",
   "execution_count": null,
   "metadata": {
    "hidden": true
   },
   "outputs": [],
   "source": [
    "# Drop NaN values from residuals."
   ]
  },
  {
   "cell_type": "code",
   "execution_count": null,
   "metadata": {
    "hidden": true
   },
   "outputs": [],
   "source": [
    "# Really, Dickey-Fuller? Again?"
   ]
  }
 ],
 "metadata": {
  "kernelspec": {
   "display_name": "Python (learn-env)",
   "language": "python",
   "name": "learn-env"
  },
  "language_info": {
   "codemirror_mode": {
    "name": "ipython",
    "version": 3
   },
   "file_extension": ".py",
   "mimetype": "text/x-python",
   "name": "python",
   "nbconvert_exporter": "python",
   "pygments_lexer": "ipython3",
   "version": "3.8.5"
  },
  "toc": {
   "base_numbering": 1,
   "nav_menu": {},
   "number_sections": true,
   "sideBar": true,
   "skip_h1_title": false,
   "title_cell": "Table of Contents",
   "title_sidebar": "TOC",
   "toc_cell": true,
   "toc_position": {
    "height": "calc(100% - 180px)",
    "left": "10px",
    "top": "150px",
    "width": "288px"
   },
   "toc_section_display": true,
   "toc_window_display": false
  },
  "varInspector": {
   "cols": {
    "lenName": 16,
    "lenType": 16,
    "lenVar": 40
   },
   "kernels_config": {
    "python": {
     "delete_cmd_postfix": "",
     "delete_cmd_prefix": "del ",
     "library": "var_list.py",
     "varRefreshCmd": "print(var_dic_list())"
    },
    "r": {
     "delete_cmd_postfix": ") ",
     "delete_cmd_prefix": "rm(",
     "library": "var_list.r",
     "varRefreshCmd": "cat(var_dic_list()) "
    }
   },
   "types_to_exclude": [
    "module",
    "function",
    "builtin_function_or_method",
    "instance",
    "_Feature"
   ],
   "window_display": false
  }
 },
 "nbformat": 4,
 "nbformat_minor": 4
}
